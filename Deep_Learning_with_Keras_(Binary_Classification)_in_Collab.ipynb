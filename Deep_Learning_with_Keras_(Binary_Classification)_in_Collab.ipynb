{
  "nbformat": 4,
  "nbformat_minor": 0,
  "metadata": {
    "kernelspec": {
      "display_name": "Python 3",
      "language": "python",
      "name": "python3"
    },
    "language_info": {
      "codemirror_mode": {
        "name": "ipython",
        "version": 3
      },
      "file_extension": ".py",
      "mimetype": "text/x-python",
      "name": "python",
      "nbconvert_exporter": "python",
      "pygments_lexer": "ipython3",
      "version": "3.8.5"
    },
    "colab": {
      "name": "Deep Learning with Keras (Binary Classification) in Collab.ipynb",
      "provenance": [],
      "collapsed_sections": []
    }
  },
  "cells": [
    {
      "cell_type": "markdown",
      "metadata": {
        "id": "LJHgF_hSWCFh"
      },
      "source": [
        "## BUSINESS UNDERSTANDING\n",
        "\n",
        "The prime aim of this project is to assess whether or not a new customer is likely to pay back the loan. \n",
        "\n",
        "LendingClub is a US peer-to-peer lending company, headquartered in San Francisco, California. It was the first peer-to-peer lender to register its offerings as securities with the Securities and Exchange Commission, and to offer loan trading on a secondary market. LendingClub is the world's largest peer-to-peer lending platform.\n",
        "\n",
        "Given historical data on loans given out with information on whether or not the borrower defaulted (charge-off), binary classification model will be developed to predict wether or not a borrower will pay back their loan? \n",
        "\n",
        "For the scope of this project, a subset of the LendingClub DataSet obtained from Kaggle: https://www.kaggle.com/wordsforthewise/lending-club will be used."
      ]
    },
    {
      "cell_type": "code",
      "metadata": {
        "colab": {
          "base_uri": "https://localhost:8080/"
        },
        "id": "K-uUcGDpWHg-",
        "outputId": "3f0e5a29-5f19-4350-8608-53672cf73adf"
      },
      "source": [
        "from google.colab import drive\n",
        "drive.mount('/content/drive')"
      ],
      "execution_count": 1,
      "outputs": [
        {
          "output_type": "stream",
          "text": [
            "Mounted at /content/drive\n"
          ],
          "name": "stdout"
        }
      ]
    },
    {
      "cell_type": "markdown",
      "metadata": {
        "id": "ZWk4GQIpWCFp"
      },
      "source": [
        "## Getting Familiar with the Data\n",
        "\n",
        "Here is the information on this particular data set:\n",
        "\n",
        "<table border=\"1\" class=\"dataframe\">\n",
        "  <thead>\n",
        "    <tr style=\"text-align: right;\">\n",
        "      <th></th>\n",
        "      <th>LoanStatNew</th>\n",
        "      <th>Description</th>\n",
        "    </tr>\n",
        "  </thead>\n",
        "  <tbody>\n",
        "    <tr>\n",
        "      <th>0</th>\n",
        "      <td>loan_amnt</td>\n",
        "      <td>The listed amount of the loan applied for by the borrower. If at some point in time, the credit department reduces the loan amount, then it will be reflected in this value.</td>\n",
        "    </tr>\n",
        "    <tr>\n",
        "      <th>1</th>\n",
        "      <td>term</td>\n",
        "      <td>The number of payments on the loan. Values are in months and can be either 36 or 60.</td>\n",
        "    </tr>\n",
        "    <tr>\n",
        "      <th>2</th>\n",
        "      <td>int_rate</td>\n",
        "      <td>Interest Rate on the loan</td>\n",
        "    </tr>\n",
        "    <tr>\n",
        "      <th>3</th>\n",
        "      <td>installment</td>\n",
        "      <td>The monthly payment owed by the borrower if the loan originates.</td>\n",
        "    </tr>\n",
        "    <tr>\n",
        "      <th>4</th>\n",
        "      <td>grade</td>\n",
        "      <td>LC assigned loan grade</td>\n",
        "    </tr>\n",
        "    <tr>\n",
        "      <th>5</th>\n",
        "      <td>sub_grade</td>\n",
        "      <td>LC assigned loan subgrade</td>\n",
        "    </tr>\n",
        "    <tr>\n",
        "      <th>6</th>\n",
        "      <td>emp_title</td>\n",
        "      <td>The job title supplied by the Borrower when applying for the loan.*</td>\n",
        "    </tr>\n",
        "    <tr>\n",
        "      <th>7</th>\n",
        "      <td>emp_length</td>\n",
        "      <td>Employment length in years. Possible values are between 0 and 10 where 0 means less than one year and 10 means ten or more years.</td>\n",
        "    </tr>\n",
        "    <tr>\n",
        "      <th>8</th>\n",
        "      <td>home_ownership</td>\n",
        "      <td>The home ownership status provided by the borrower during registration or obtained from the credit report. Our values are: RENT, OWN, MORTGAGE, OTHER</td>\n",
        "    </tr>\n",
        "    <tr>\n",
        "      <th>9</th>\n",
        "      <td>annual_inc</td>\n",
        "      <td>The self-reported annual income provided by the borrower during registration.</td>\n",
        "    </tr>\n",
        "    <tr>\n",
        "      <th>10</th>\n",
        "      <td>verification_status</td>\n",
        "      <td>Indicates if income was verified by LC, not verified, or if the income source was verified</td>\n",
        "    </tr>\n",
        "    <tr>\n",
        "      <th>11</th>\n",
        "      <td>issue_d</td>\n",
        "      <td>The month which the loan was funded</td>\n",
        "    </tr>\n",
        "    <tr>\n",
        "      <th>12</th>\n",
        "      <td>loan_status</td>\n",
        "      <td>Current status of the loan</td>\n",
        "    </tr>\n",
        "    <tr>\n",
        "      <th>13</th>\n",
        "      <td>purpose</td>\n",
        "      <td>A category provided by the borrower for the loan request.</td>\n",
        "    </tr>\n",
        "    <tr>\n",
        "      <th>14</th>\n",
        "      <td>title</td>\n",
        "      <td>The loan title provided by the borrower</td>\n",
        "    </tr>\n",
        "    <tr>\n",
        "      <th>15</th>\n",
        "      <td>zip_code</td>\n",
        "      <td>The first 3 numbers of the zip code provided by the borrower in the loan application.</td>\n",
        "    </tr>\n",
        "    <tr>\n",
        "      <th>16</th>\n",
        "      <td>addr_state</td>\n",
        "      <td>The state provided by the borrower in the loan application</td>\n",
        "    </tr>\n",
        "    <tr>\n",
        "      <th>17</th>\n",
        "      <td>dti</td>\n",
        "      <td>A ratio calculated using the borrower’s total monthly debt payments on the total debt obligations, excluding mortgage and the requested LC loan, divided by the borrower’s self-reported monthly income.</td>\n",
        "    </tr>\n",
        "    <tr>\n",
        "      <th>18</th>\n",
        "      <td>earliest_cr_line</td>\n",
        "      <td>The month the borrower's earliest reported credit line was opened</td>\n",
        "    </tr>\n",
        "    <tr>\n",
        "      <th>19</th>\n",
        "      <td>open_acc</td>\n",
        "      <td>The number of open credit lines in the borrower's credit file.</td>\n",
        "    </tr>\n",
        "    <tr>\n",
        "      <th>20</th>\n",
        "      <td>pub_rec</td>\n",
        "      <td>Number of derogatory public records</td>\n",
        "    </tr>\n",
        "    <tr>\n",
        "      <th>21</th>\n",
        "      <td>revol_bal</td>\n",
        "      <td>Total credit revolving balance</td>\n",
        "    </tr>\n",
        "    <tr>\n",
        "      <th>22</th>\n",
        "      <td>revol_util</td>\n",
        "      <td>Revolving line utilization rate, or the amount of credit the borrower is using relative to all available revolving credit.</td>\n",
        "    </tr>\n",
        "    <tr>\n",
        "      <th>23</th>\n",
        "      <td>total_acc</td>\n",
        "      <td>The total number of credit lines currently in the borrower's credit file</td>\n",
        "    </tr>\n",
        "    <tr>\n",
        "      <th>24</th>\n",
        "      <td>initial_list_status</td>\n",
        "      <td>The initial listing status of the loan. Possible values are – W, F</td>\n",
        "    </tr>\n",
        "    <tr>\n",
        "      <th>25</th>\n",
        "      <td>application_type</td>\n",
        "      <td>Indicates whether the loan is an individual application or a joint application with two co-borrowers</td>\n",
        "    </tr>\n",
        "    <tr>\n",
        "      <th>26</th>\n",
        "      <td>mort_acc</td>\n",
        "      <td>Number of mortgage accounts.</td>\n",
        "    </tr>\n",
        "    <tr>\n",
        "      <th>27</th>\n",
        "      <td>pub_rec_bankruptcies</td>\n",
        "      <td>Number of public record bankruptcies</td>\n",
        "    </tr>\n",
        "  </tbody>\n",
        "</table>\n"
      ]
    },
    {
      "cell_type": "markdown",
      "metadata": {
        "id": "Msj1_NZGWCFq"
      },
      "source": [
        "## Loading the Data and Required Libraries "
      ]
    },
    {
      "cell_type": "code",
      "metadata": {
        "id": "C3sqUK4bWCFq",
        "colab": {
          "base_uri": "https://localhost:8080/"
        },
        "outputId": "a93e8456-47cd-4e2d-c634-ea273aa5f501"
      },
      "source": [
        "import pandas as pd\n",
        "import numpy as np\n",
        "import random as rnd\n",
        "\n",
        "import seaborn as sns\n",
        "import matplotlib.pyplot as plt\n",
        "%matplotlib inline\n",
        "\n",
        "pd.set_option('display.float', '{:.2f}'.format)\n",
        "pd.set_option('display.max_columns', 50)\n",
        "pd.set_option('display.max_rows', 50)\n",
        "\n",
        "from sklearn.model_selection import train_test_split\n",
        "from sklearn.preprocessing import MinMaxScaler\n",
        "\n",
        "import tensorflow\n",
        "from tensorflow.keras.models import Sequential\n",
        "from tensorflow.keras.layers import Dense, Dropout, Activation\n",
        "from tensorflow.keras.constraints import max_norm\n",
        "from tensorflow.keras.optimizers import Adam\n",
        "from tensorflow.keras.callbacks import EarlyStopping\n",
        "from tensorflow.keras.models import load_model\n",
        "\n",
        "from sklearn.metrics import classification_report,confusion_matrix\n",
        "from yellowbrick.classifier import ClassificationReport\n",
        "\n",
        "import warnings\n",
        "warnings.filterwarnings('ignore')"
      ],
      "execution_count": 2,
      "outputs": [
        {
          "output_type": "stream",
          "text": [
            "/usr/local/lib/python3.6/dist-packages/sklearn/utils/deprecation.py:144: FutureWarning: The sklearn.metrics.classification module is  deprecated in version 0.22 and will be removed in version 0.24. The corresponding classes / functions should instead be imported from sklearn.metrics. Anything that cannot be imported from sklearn.metrics is now part of the private API.\n",
            "  warnings.warn(message, FutureWarning)\n"
          ],
          "name": "stderr"
        }
      ]
    },
    {
      "cell_type": "code",
      "metadata": {
        "id": "UDdC9eOi8l1c"
      },
      "source": [
        "def null_values(df):\r\n",
        "        mis_val = df.isnull().sum()\r\n",
        "        mis_val_percent = 100 * df.isnull().sum() / len(df)\r\n",
        "        mis_val_table = pd.concat([mis_val, mis_val_percent], axis=1)\r\n",
        "        mis_val_table_ren_columns = mis_val_table.rename(\r\n",
        "        columns = {0 : 'Missing Values', 1 : '% of Total Values'})\r\n",
        "        mis_val_table_ren_columns = mis_val_table_ren_columns[\r\n",
        "            mis_val_table_ren_columns.iloc[:,1] != 0].sort_values(\r\n",
        "        '% of Total Values', ascending=False).round(1)\r\n",
        "        print (\"Dataframe has \" + str(df.shape[1]) + \" columns.\\n\"      \r\n",
        "            \"There are \" + str(mis_val_table_ren_columns.shape[0]) +\r\n",
        "              \" columns that have missing values.\")\r\n",
        "        return mis_val_table_ren_columns"
      ],
      "execution_count": 3,
      "outputs": []
    },
    {
      "cell_type": "code",
      "metadata": {
        "colab": {
          "base_uri": "https://localhost:8080/",
          "height": 391
        },
        "id": "UK9-FAJrWCFr",
        "outputId": "a4a0c43d-f1be-4717-da4f-f97940d1a13a"
      },
      "source": [
        "df = pd.read_csv('/content/drive/MyDrive/Clarusway Data Science/Deep Learning/Deep Learning Capstone/lending_club_loan.csv')\n",
        "df.head()"
      ],
      "execution_count": 4,
      "outputs": [
        {
          "output_type": "execute_result",
          "data": {
            "text/html": [
              "<div>\n",
              "<style scoped>\n",
              "    .dataframe tbody tr th:only-of-type {\n",
              "        vertical-align: middle;\n",
              "    }\n",
              "\n",
              "    .dataframe tbody tr th {\n",
              "        vertical-align: top;\n",
              "    }\n",
              "\n",
              "    .dataframe thead th {\n",
              "        text-align: right;\n",
              "    }\n",
              "</style>\n",
              "<table border=\"1\" class=\"dataframe\">\n",
              "  <thead>\n",
              "    <tr style=\"text-align: right;\">\n",
              "      <th></th>\n",
              "      <th>loan_amnt</th>\n",
              "      <th>term</th>\n",
              "      <th>int_rate</th>\n",
              "      <th>installment</th>\n",
              "      <th>grade</th>\n",
              "      <th>sub_grade</th>\n",
              "      <th>emp_title</th>\n",
              "      <th>emp_length</th>\n",
              "      <th>home_ownership</th>\n",
              "      <th>annual_inc</th>\n",
              "      <th>verification_status</th>\n",
              "      <th>issue_d</th>\n",
              "      <th>loan_status</th>\n",
              "      <th>purpose</th>\n",
              "      <th>title</th>\n",
              "      <th>dti</th>\n",
              "      <th>earliest_cr_line</th>\n",
              "      <th>open_acc</th>\n",
              "      <th>pub_rec</th>\n",
              "      <th>revol_bal</th>\n",
              "      <th>revol_util</th>\n",
              "      <th>total_acc</th>\n",
              "      <th>initial_list_status</th>\n",
              "      <th>application_type</th>\n",
              "      <th>mort_acc</th>\n",
              "      <th>pub_rec_bankruptcies</th>\n",
              "      <th>address</th>\n",
              "    </tr>\n",
              "  </thead>\n",
              "  <tbody>\n",
              "    <tr>\n",
              "      <th>0</th>\n",
              "      <td>10000.00</td>\n",
              "      <td>36 months</td>\n",
              "      <td>11.44</td>\n",
              "      <td>329.48</td>\n",
              "      <td>B</td>\n",
              "      <td>B4</td>\n",
              "      <td>Marketing</td>\n",
              "      <td>10+ years</td>\n",
              "      <td>RENT</td>\n",
              "      <td>117000.00</td>\n",
              "      <td>Not Verified</td>\n",
              "      <td>Jan-2015</td>\n",
              "      <td>Fully Paid</td>\n",
              "      <td>vacation</td>\n",
              "      <td>Vacation</td>\n",
              "      <td>26.24</td>\n",
              "      <td>Jun-1990</td>\n",
              "      <td>16.00</td>\n",
              "      <td>0.00</td>\n",
              "      <td>36369.00</td>\n",
              "      <td>41.80</td>\n",
              "      <td>25.00</td>\n",
              "      <td>w</td>\n",
              "      <td>INDIVIDUAL</td>\n",
              "      <td>0.00</td>\n",
              "      <td>0.00</td>\n",
              "      <td>0174 Michelle Gateway\\nMendozaberg, OK 22690</td>\n",
              "    </tr>\n",
              "    <tr>\n",
              "      <th>1</th>\n",
              "      <td>8000.00</td>\n",
              "      <td>36 months</td>\n",
              "      <td>11.99</td>\n",
              "      <td>265.68</td>\n",
              "      <td>B</td>\n",
              "      <td>B5</td>\n",
              "      <td>Credit analyst</td>\n",
              "      <td>4 years</td>\n",
              "      <td>MORTGAGE</td>\n",
              "      <td>65000.00</td>\n",
              "      <td>Not Verified</td>\n",
              "      <td>Jan-2015</td>\n",
              "      <td>Fully Paid</td>\n",
              "      <td>debt_consolidation</td>\n",
              "      <td>Debt consolidation</td>\n",
              "      <td>22.05</td>\n",
              "      <td>Jul-2004</td>\n",
              "      <td>17.00</td>\n",
              "      <td>0.00</td>\n",
              "      <td>20131.00</td>\n",
              "      <td>53.30</td>\n",
              "      <td>27.00</td>\n",
              "      <td>f</td>\n",
              "      <td>INDIVIDUAL</td>\n",
              "      <td>3.00</td>\n",
              "      <td>0.00</td>\n",
              "      <td>1076 Carney Fort Apt. 347\\nLoganmouth, SD 05113</td>\n",
              "    </tr>\n",
              "    <tr>\n",
              "      <th>2</th>\n",
              "      <td>15600.00</td>\n",
              "      <td>36 months</td>\n",
              "      <td>10.49</td>\n",
              "      <td>506.97</td>\n",
              "      <td>B</td>\n",
              "      <td>B3</td>\n",
              "      <td>Statistician</td>\n",
              "      <td>&lt; 1 year</td>\n",
              "      <td>RENT</td>\n",
              "      <td>43057.00</td>\n",
              "      <td>Source Verified</td>\n",
              "      <td>Jan-2015</td>\n",
              "      <td>Fully Paid</td>\n",
              "      <td>credit_card</td>\n",
              "      <td>Credit card refinancing</td>\n",
              "      <td>12.79</td>\n",
              "      <td>Aug-2007</td>\n",
              "      <td>13.00</td>\n",
              "      <td>0.00</td>\n",
              "      <td>11987.00</td>\n",
              "      <td>92.20</td>\n",
              "      <td>26.00</td>\n",
              "      <td>f</td>\n",
              "      <td>INDIVIDUAL</td>\n",
              "      <td>0.00</td>\n",
              "      <td>0.00</td>\n",
              "      <td>87025 Mark Dale Apt. 269\\nNew Sabrina, WV 05113</td>\n",
              "    </tr>\n",
              "    <tr>\n",
              "      <th>3</th>\n",
              "      <td>7200.00</td>\n",
              "      <td>36 months</td>\n",
              "      <td>6.49</td>\n",
              "      <td>220.65</td>\n",
              "      <td>A</td>\n",
              "      <td>A2</td>\n",
              "      <td>Client Advocate</td>\n",
              "      <td>6 years</td>\n",
              "      <td>RENT</td>\n",
              "      <td>54000.00</td>\n",
              "      <td>Not Verified</td>\n",
              "      <td>Nov-2014</td>\n",
              "      <td>Fully Paid</td>\n",
              "      <td>credit_card</td>\n",
              "      <td>Credit card refinancing</td>\n",
              "      <td>2.60</td>\n",
              "      <td>Sep-2006</td>\n",
              "      <td>6.00</td>\n",
              "      <td>0.00</td>\n",
              "      <td>5472.00</td>\n",
              "      <td>21.50</td>\n",
              "      <td>13.00</td>\n",
              "      <td>f</td>\n",
              "      <td>INDIVIDUAL</td>\n",
              "      <td>0.00</td>\n",
              "      <td>0.00</td>\n",
              "      <td>823 Reid Ford\\nDelacruzside, MA 00813</td>\n",
              "    </tr>\n",
              "    <tr>\n",
              "      <th>4</th>\n",
              "      <td>24375.00</td>\n",
              "      <td>60 months</td>\n",
              "      <td>17.27</td>\n",
              "      <td>609.33</td>\n",
              "      <td>C</td>\n",
              "      <td>C5</td>\n",
              "      <td>Destiny Management Inc.</td>\n",
              "      <td>9 years</td>\n",
              "      <td>MORTGAGE</td>\n",
              "      <td>55000.00</td>\n",
              "      <td>Verified</td>\n",
              "      <td>Apr-2013</td>\n",
              "      <td>Charged Off</td>\n",
              "      <td>credit_card</td>\n",
              "      <td>Credit Card Refinance</td>\n",
              "      <td>33.95</td>\n",
              "      <td>Mar-1999</td>\n",
              "      <td>13.00</td>\n",
              "      <td>0.00</td>\n",
              "      <td>24584.00</td>\n",
              "      <td>69.80</td>\n",
              "      <td>43.00</td>\n",
              "      <td>f</td>\n",
              "      <td>INDIVIDUAL</td>\n",
              "      <td>1.00</td>\n",
              "      <td>0.00</td>\n",
              "      <td>679 Luna Roads\\nGreggshire, VA 11650</td>\n",
              "    </tr>\n",
              "  </tbody>\n",
              "</table>\n",
              "</div>"
            ],
            "text/plain": [
              "   loan_amnt        term  int_rate  installment grade sub_grade  \\\n",
              "0   10000.00   36 months     11.44       329.48     B        B4   \n",
              "1    8000.00   36 months     11.99       265.68     B        B5   \n",
              "2   15600.00   36 months     10.49       506.97     B        B3   \n",
              "3    7200.00   36 months      6.49       220.65     A        A2   \n",
              "4   24375.00   60 months     17.27       609.33     C        C5   \n",
              "\n",
              "                 emp_title emp_length home_ownership  annual_inc  \\\n",
              "0                Marketing  10+ years           RENT   117000.00   \n",
              "1          Credit analyst     4 years       MORTGAGE    65000.00   \n",
              "2             Statistician   < 1 year           RENT    43057.00   \n",
              "3          Client Advocate    6 years           RENT    54000.00   \n",
              "4  Destiny Management Inc.    9 years       MORTGAGE    55000.00   \n",
              "\n",
              "  verification_status   issue_d  loan_status             purpose  \\\n",
              "0        Not Verified  Jan-2015   Fully Paid            vacation   \n",
              "1        Not Verified  Jan-2015   Fully Paid  debt_consolidation   \n",
              "2     Source Verified  Jan-2015   Fully Paid         credit_card   \n",
              "3        Not Verified  Nov-2014   Fully Paid         credit_card   \n",
              "4            Verified  Apr-2013  Charged Off         credit_card   \n",
              "\n",
              "                     title   dti earliest_cr_line  open_acc  pub_rec  \\\n",
              "0                 Vacation 26.24         Jun-1990     16.00     0.00   \n",
              "1       Debt consolidation 22.05         Jul-2004     17.00     0.00   \n",
              "2  Credit card refinancing 12.79         Aug-2007     13.00     0.00   \n",
              "3  Credit card refinancing  2.60         Sep-2006      6.00     0.00   \n",
              "4    Credit Card Refinance 33.95         Mar-1999     13.00     0.00   \n",
              "\n",
              "   revol_bal  revol_util  total_acc initial_list_status application_type  \\\n",
              "0   36369.00       41.80      25.00                   w       INDIVIDUAL   \n",
              "1   20131.00       53.30      27.00                   f       INDIVIDUAL   \n",
              "2   11987.00       92.20      26.00                   f       INDIVIDUAL   \n",
              "3    5472.00       21.50      13.00                   f       INDIVIDUAL   \n",
              "4   24584.00       69.80      43.00                   f       INDIVIDUAL   \n",
              "\n",
              "   mort_acc  pub_rec_bankruptcies  \\\n",
              "0      0.00                  0.00   \n",
              "1      3.00                  0.00   \n",
              "2      0.00                  0.00   \n",
              "3      0.00                  0.00   \n",
              "4      1.00                  0.00   \n",
              "\n",
              "                                           address  \n",
              "0     0174 Michelle Gateway\\nMendozaberg, OK 22690  \n",
              "1  1076 Carney Fort Apt. 347\\nLoganmouth, SD 05113  \n",
              "2  87025 Mark Dale Apt. 269\\nNew Sabrina, WV 05113  \n",
              "3            823 Reid Ford\\nDelacruzside, MA 00813  \n",
              "4             679 Luna Roads\\nGreggshire, VA 11650  "
            ]
          },
          "metadata": {
            "tags": []
          },
          "execution_count": 4
        }
      ]
    },
    {
      "cell_type": "markdown",
      "metadata": {
        "id": "7zfu-lTUWCFs"
      },
      "source": [
        "## Exploratory Data Analysis"
      ]
    },
    {
      "cell_type": "code",
      "metadata": {
        "colab": {
          "base_uri": "https://localhost:8080/"
        },
        "id": "go7JZzkiWCFs",
        "outputId": "58c62835-04b9-4400-b4cf-970b8ee19715"
      },
      "source": [
        "df.info()"
      ],
      "execution_count": 5,
      "outputs": [
        {
          "output_type": "stream",
          "text": [
            "<class 'pandas.core.frame.DataFrame'>\n",
            "RangeIndex: 396030 entries, 0 to 396029\n",
            "Data columns (total 27 columns):\n",
            " #   Column                Non-Null Count   Dtype  \n",
            "---  ------                --------------   -----  \n",
            " 0   loan_amnt             396030 non-null  float64\n",
            " 1   term                  396030 non-null  object \n",
            " 2   int_rate              396030 non-null  float64\n",
            " 3   installment           396030 non-null  float64\n",
            " 4   grade                 396030 non-null  object \n",
            " 5   sub_grade             396030 non-null  object \n",
            " 6   emp_title             373103 non-null  object \n",
            " 7   emp_length            377729 non-null  object \n",
            " 8   home_ownership        396030 non-null  object \n",
            " 9   annual_inc            396030 non-null  float64\n",
            " 10  verification_status   396030 non-null  object \n",
            " 11  issue_d               396030 non-null  object \n",
            " 12  loan_status           396030 non-null  object \n",
            " 13  purpose               396030 non-null  object \n",
            " 14  title                 394275 non-null  object \n",
            " 15  dti                   396030 non-null  float64\n",
            " 16  earliest_cr_line      396030 non-null  object \n",
            " 17  open_acc              396030 non-null  float64\n",
            " 18  pub_rec               396030 non-null  float64\n",
            " 19  revol_bal             396030 non-null  float64\n",
            " 20  revol_util            395754 non-null  float64\n",
            " 21  total_acc             396030 non-null  float64\n",
            " 22  initial_list_status   396030 non-null  object \n",
            " 23  application_type      396030 non-null  object \n",
            " 24  mort_acc              358235 non-null  float64\n",
            " 25  pub_rec_bankruptcies  395495 non-null  float64\n",
            " 26  address               396030 non-null  object \n",
            "dtypes: float64(12), object(15)\n",
            "memory usage: 81.6+ MB\n"
          ],
          "name": "stdout"
        }
      ]
    },
    {
      "cell_type": "code",
      "metadata": {
        "colab": {
          "base_uri": "https://localhost:8080/",
          "height": 408
        },
        "id": "uG7pZNbIWCFt",
        "outputId": "6a7b5c7f-9c43-4707-c4dd-17de054125b1"
      },
      "source": [
        "df.describe().T"
      ],
      "execution_count": 6,
      "outputs": [
        {
          "output_type": "execute_result",
          "data": {
            "text/html": [
              "<div>\n",
              "<style scoped>\n",
              "    .dataframe tbody tr th:only-of-type {\n",
              "        vertical-align: middle;\n",
              "    }\n",
              "\n",
              "    .dataframe tbody tr th {\n",
              "        vertical-align: top;\n",
              "    }\n",
              "\n",
              "    .dataframe thead th {\n",
              "        text-align: right;\n",
              "    }\n",
              "</style>\n",
              "<table border=\"1\" class=\"dataframe\">\n",
              "  <thead>\n",
              "    <tr style=\"text-align: right;\">\n",
              "      <th></th>\n",
              "      <th>count</th>\n",
              "      <th>mean</th>\n",
              "      <th>std</th>\n",
              "      <th>min</th>\n",
              "      <th>25%</th>\n",
              "      <th>50%</th>\n",
              "      <th>75%</th>\n",
              "      <th>max</th>\n",
              "    </tr>\n",
              "  </thead>\n",
              "  <tbody>\n",
              "    <tr>\n",
              "      <th>loan_amnt</th>\n",
              "      <td>396030.00</td>\n",
              "      <td>14113.89</td>\n",
              "      <td>8357.44</td>\n",
              "      <td>500.00</td>\n",
              "      <td>8000.00</td>\n",
              "      <td>12000.00</td>\n",
              "      <td>20000.00</td>\n",
              "      <td>40000.00</td>\n",
              "    </tr>\n",
              "    <tr>\n",
              "      <th>int_rate</th>\n",
              "      <td>396030.00</td>\n",
              "      <td>13.64</td>\n",
              "      <td>4.47</td>\n",
              "      <td>5.32</td>\n",
              "      <td>10.49</td>\n",
              "      <td>13.33</td>\n",
              "      <td>16.49</td>\n",
              "      <td>30.99</td>\n",
              "    </tr>\n",
              "    <tr>\n",
              "      <th>installment</th>\n",
              "      <td>396030.00</td>\n",
              "      <td>431.85</td>\n",
              "      <td>250.73</td>\n",
              "      <td>16.08</td>\n",
              "      <td>250.33</td>\n",
              "      <td>375.43</td>\n",
              "      <td>567.30</td>\n",
              "      <td>1533.81</td>\n",
              "    </tr>\n",
              "    <tr>\n",
              "      <th>annual_inc</th>\n",
              "      <td>396030.00</td>\n",
              "      <td>74203.18</td>\n",
              "      <td>61637.62</td>\n",
              "      <td>0.00</td>\n",
              "      <td>45000.00</td>\n",
              "      <td>64000.00</td>\n",
              "      <td>90000.00</td>\n",
              "      <td>8706582.00</td>\n",
              "    </tr>\n",
              "    <tr>\n",
              "      <th>dti</th>\n",
              "      <td>396030.00</td>\n",
              "      <td>17.38</td>\n",
              "      <td>18.02</td>\n",
              "      <td>0.00</td>\n",
              "      <td>11.28</td>\n",
              "      <td>16.91</td>\n",
              "      <td>22.98</td>\n",
              "      <td>9999.00</td>\n",
              "    </tr>\n",
              "    <tr>\n",
              "      <th>open_acc</th>\n",
              "      <td>396030.00</td>\n",
              "      <td>11.31</td>\n",
              "      <td>5.14</td>\n",
              "      <td>0.00</td>\n",
              "      <td>8.00</td>\n",
              "      <td>10.00</td>\n",
              "      <td>14.00</td>\n",
              "      <td>90.00</td>\n",
              "    </tr>\n",
              "    <tr>\n",
              "      <th>pub_rec</th>\n",
              "      <td>396030.00</td>\n",
              "      <td>0.18</td>\n",
              "      <td>0.53</td>\n",
              "      <td>0.00</td>\n",
              "      <td>0.00</td>\n",
              "      <td>0.00</td>\n",
              "      <td>0.00</td>\n",
              "      <td>86.00</td>\n",
              "    </tr>\n",
              "    <tr>\n",
              "      <th>revol_bal</th>\n",
              "      <td>396030.00</td>\n",
              "      <td>15844.54</td>\n",
              "      <td>20591.84</td>\n",
              "      <td>0.00</td>\n",
              "      <td>6025.00</td>\n",
              "      <td>11181.00</td>\n",
              "      <td>19620.00</td>\n",
              "      <td>1743266.00</td>\n",
              "    </tr>\n",
              "    <tr>\n",
              "      <th>revol_util</th>\n",
              "      <td>395754.00</td>\n",
              "      <td>53.79</td>\n",
              "      <td>24.45</td>\n",
              "      <td>0.00</td>\n",
              "      <td>35.80</td>\n",
              "      <td>54.80</td>\n",
              "      <td>72.90</td>\n",
              "      <td>892.30</td>\n",
              "    </tr>\n",
              "    <tr>\n",
              "      <th>total_acc</th>\n",
              "      <td>396030.00</td>\n",
              "      <td>25.41</td>\n",
              "      <td>11.89</td>\n",
              "      <td>2.00</td>\n",
              "      <td>17.00</td>\n",
              "      <td>24.00</td>\n",
              "      <td>32.00</td>\n",
              "      <td>151.00</td>\n",
              "    </tr>\n",
              "    <tr>\n",
              "      <th>mort_acc</th>\n",
              "      <td>358235.00</td>\n",
              "      <td>1.81</td>\n",
              "      <td>2.15</td>\n",
              "      <td>0.00</td>\n",
              "      <td>0.00</td>\n",
              "      <td>1.00</td>\n",
              "      <td>3.00</td>\n",
              "      <td>34.00</td>\n",
              "    </tr>\n",
              "    <tr>\n",
              "      <th>pub_rec_bankruptcies</th>\n",
              "      <td>395495.00</td>\n",
              "      <td>0.12</td>\n",
              "      <td>0.36</td>\n",
              "      <td>0.00</td>\n",
              "      <td>0.00</td>\n",
              "      <td>0.00</td>\n",
              "      <td>0.00</td>\n",
              "      <td>8.00</td>\n",
              "    </tr>\n",
              "  </tbody>\n",
              "</table>\n",
              "</div>"
            ],
            "text/plain": [
              "                         count     mean      std    min      25%      50%  \\\n",
              "loan_amnt            396030.00 14113.89  8357.44 500.00  8000.00 12000.00   \n",
              "int_rate             396030.00    13.64     4.47   5.32    10.49    13.33   \n",
              "installment          396030.00   431.85   250.73  16.08   250.33   375.43   \n",
              "annual_inc           396030.00 74203.18 61637.62   0.00 45000.00 64000.00   \n",
              "dti                  396030.00    17.38    18.02   0.00    11.28    16.91   \n",
              "open_acc             396030.00    11.31     5.14   0.00     8.00    10.00   \n",
              "pub_rec              396030.00     0.18     0.53   0.00     0.00     0.00   \n",
              "revol_bal            396030.00 15844.54 20591.84   0.00  6025.00 11181.00   \n",
              "revol_util           395754.00    53.79    24.45   0.00    35.80    54.80   \n",
              "total_acc            396030.00    25.41    11.89   2.00    17.00    24.00   \n",
              "mort_acc             358235.00     1.81     2.15   0.00     0.00     1.00   \n",
              "pub_rec_bankruptcies 395495.00     0.12     0.36   0.00     0.00     0.00   \n",
              "\n",
              "                          75%        max  \n",
              "loan_amnt            20000.00   40000.00  \n",
              "int_rate                16.49      30.99  \n",
              "installment            567.30    1533.81  \n",
              "annual_inc           90000.00 8706582.00  \n",
              "dti                     22.98    9999.00  \n",
              "open_acc                14.00      90.00  \n",
              "pub_rec                  0.00      86.00  \n",
              "revol_bal            19620.00 1743266.00  \n",
              "revol_util              72.90     892.30  \n",
              "total_acc               32.00     151.00  \n",
              "mort_acc                 3.00      34.00  \n",
              "pub_rec_bankruptcies     0.00       8.00  "
            ]
          },
          "metadata": {
            "tags": []
          },
          "execution_count": 6
        }
      ]
    },
    {
      "cell_type": "code",
      "metadata": {
        "colab": {
          "base_uri": "https://localhost:8080/",
          "height": 361
        },
        "id": "r1Wxn7dEWCFt",
        "outputId": "a6879989-5e4c-4f2e-d342-b021ba405a3f"
      },
      "source": [
        "sns.countplot(x='loan_status',data=df);"
      ],
      "execution_count": 7,
      "outputs": [
        {
          "output_type": "display_data",
          "data": {
            "image/png": "[encoded data removed]",
            "text/plain": [
              "<Figure size 576x396 with 1 Axes>"
            ]
          },
          "metadata": {
            "tags": []
          }
        }
      ]
    },
    {
      "cell_type": "code",
      "metadata": {
        "colab": {
          "base_uri": "https://localhost:8080/",
          "height": 497
        },
        "id": "F1HdDH-0X27O",
        "outputId": "642ce5ea-83e1-4dd5-a3c5-1bf63a5bfd4a"
      },
      "source": [
        "plt.figure(figsize=(16,8))\r\n",
        "sns.distplot(df['loan_amnt'],kde=False,bins=40)\r\n",
        "plt.xlim(0,45000);"
      ],
      "execution_count": 9,
      "outputs": [
        {
          "output_type": "display_data",
          "data": {
            "image/png": "[encoded data removed]",
            "text/plain": [
              "<Figure size 1152x576 with 1 Axes>"
            ]
          },
          "metadata": {
            "tags": []
          }
        }
      ]
    },
    {
      "cell_type": "code",
      "metadata": {
        "colab": {
          "base_uri": "https://localhost:8080/",
          "height": 575
        },
        "id": "rySgZG-wWCFt",
        "outputId": "6473ad4c-9818-4def-d096-766fd678ef7b"
      },
      "source": [
        "plt.figure(figsize=(16,8))\n",
        "sns.heatmap(df.corr(),annot=True);"
      ],
      "execution_count": 10,
      "outputs": [
        {
          "output_type": "display_data",
          "data": {
            "image/png": "[encoded data removed]",
            "text/plain": [
              "<Figure size 1152x576 with 2 Axes>"
            ]
          },
          "metadata": {
            "tags": []
          }
        }
      ]
    },
    {
      "cell_type": "code",
      "metadata": {
        "colab": {
          "base_uri": "https://localhost:8080/",
          "height": 497
        },
        "id": "RDxlJ30WZl2l",
        "outputId": "0903f342-17d6-42eb-a9d9-0f183d71d6b2"
      },
      "source": [
        "plt.figure(figsize=(12, 8))\r\n",
        "sns.scatterplot(x='installment',y='loan_amnt',data=df);"
      ],
      "execution_count": 11,
      "outputs": [
        {
          "output_type": "display_data",
          "data": {
            "image/png": "[encoded data removed]",
            "text/plain": [
              "<Figure size 864x576 with 1 Axes>"
            ]
          },
          "metadata": {
            "tags": []
          }
        }
      ]
    },
    {
      "cell_type": "code",
      "metadata": {
        "colab": {
          "base_uri": "https://localhost:8080/",
          "height": 582
        },
        "id": "aM6ydodFWCFu",
        "outputId": "355f8285-dfd6-4d07-f68c-fa117ffff7ec"
      },
      "source": [
        "plt.figure(figsize=(16, 20))\n",
        "\n",
        "plt.subplot(4, 2, 1)\n",
        "df[df[\"loan_status\"] == \"Fully Paid\"][\"installment\"].hist(bins=50, color='orange', label='loan_status = Fully Paid', alpha=0.8)\n",
        "df[df[\"loan_status\"] == \"Charged Off\"][\"installment\"].hist(bins=50, color='blue', label='loan_status = Charged Off', alpha=0.8)\n",
        "plt.legend()\n",
        "plt.xlabel(\"installment\")\n",
        "\n",
        "plt.subplot(4, 2, 2)\n",
        "df[df[\"loan_status\"] == \"Fully Paid\"][\"loan_amnt\"].hist(bins=50, color='blue', label='loan_status = Fully Paid', alpha=0.8)\n",
        "df[df[\"loan_status\"] == \"Charged Off\"][\"loan_amnt\"].hist(bins=50, color='red', label='loan_status = Charged Off', alpha=0.8)\n",
        "plt.legend()\n",
        "plt.xlabel(\"loan_amnt\")\n",
        "\n",
        "plt.subplot(4, 2, 3)\n",
        "sns.scatterplot(x='installment', y='loan_amnt', data=df)\n",
        "\n",
        "plt.subplot(4, 2, 4)\n",
        "sns.boxplot(x='loan_status', y='loan_amnt', data=df);"
      ],
      "execution_count": 12,
      "outputs": [
        {
          "output_type": "display_data",
          "data": {
            "image/png": "[encoded data removed]",
            "text/plain": [
              "<Figure size 1152x1440 with 4 Axes>"
            ]
          },
          "metadata": {
            "tags": []
          }
        }
      ]
    },
    {
      "cell_type": "code",
      "metadata": {
        "colab": {
          "base_uri": "https://localhost:8080/",
          "height": 1000
        },
        "id": "VFkHTD46WCFu",
        "outputId": "16a16ea2-4dd0-4fe5-cb9d-0ecdc65239a3"
      },
      "source": [
        "num_df = df.select_dtypes(exclude=['object'])\n",
        "num_df.hist(bins=30, figsize=(30,30))\n",
        "plt.show();"
      ],
      "execution_count": 13,
      "outputs": [
        {
          "output_type": "display_data",
          "data": {
            "image/png": "[encoded data removed]",
            "text/plain": [
              "<Figure size 2160x2160 with 12 Axes>"
            ]
          },
          "metadata": {
            "tags": []
          }
        }
      ]
    },
    {
      "cell_type": "code",
      "metadata": {
        "colab": {
          "base_uri": "https://localhost:8080/",
          "height": 103
        },
        "id": "KDsjmE4iWCFu",
        "outputId": "7785b8c2-8ce3-4f71-a6fe-e57ee0076c09"
      },
      "source": [
        "term_grade = ['term', 'grade']\n",
        "cm = sns.light_palette(\"orange\", as_cmap=True)\n",
        "pd.crosstab(df[term_grade[0]], df[term_grade[1]]).style.background_gradient(cmap = cm)"
      ],
      "execution_count": 14,
      "outputs": [
        {
          "output_type": "execute_result",
          "data": {
            "text/html": [
              "<style  type=\"text/css\" >\n",
              "#T_d3c5372e_53f7_11eb_9080_0242ac1c0002row0_col0,#T_d3c5372e_53f7_11eb_9080_0242ac1c0002row0_col1,#T_d3c5372e_53f7_11eb_9080_0242ac1c0002row0_col2,#T_d3c5372e_53f7_11eb_9080_0242ac1c0002row0_col3,#T_d3c5372e_53f7_11eb_9080_0242ac1c0002row1_col4,#T_d3c5372e_53f7_11eb_9080_0242ac1c0002row1_col5,#T_d3c5372e_53f7_11eb_9080_0242ac1c0002row1_col6{\n",
              "            background-color:  #ffa500;\n",
              "            color:  #000000;\n",
              "        }#T_d3c5372e_53f7_11eb_9080_0242ac1c0002row0_col4,#T_d3c5372e_53f7_11eb_9080_0242ac1c0002row0_col5,#T_d3c5372e_53f7_11eb_9080_0242ac1c0002row0_col6,#T_d3c5372e_53f7_11eb_9080_0242ac1c0002row1_col0,#T_d3c5372e_53f7_11eb_9080_0242ac1c0002row1_col1,#T_d3c5372e_53f7_11eb_9080_0242ac1c0002row1_col2,#T_d3c5372e_53f7_11eb_9080_0242ac1c0002row1_col3{\n",
              "            background-color:  #f3f0ee;\n",
              "            color:  #000000;\n",
              "        }</style><table id=\"T_d3c5372e_53f7_11eb_9080_0242ac1c0002\" ><thead>    <tr>        <th class=\"index_name level0\" >grade</th>        <th class=\"col_heading level0 col0\" >A</th>        <th class=\"col_heading level0 col1\" >B</th>        <th class=\"col_heading level0 col2\" >C</th>        <th class=\"col_heading level0 col3\" >D</th>        <th class=\"col_heading level0 col4\" >E</th>        <th class=\"col_heading level0 col5\" >F</th>        <th class=\"col_heading level0 col6\" >G</th>    </tr>    <tr>        <th class=\"index_name level0\" >term</th>        <th class=\"blank\" ></th>        <th class=\"blank\" ></th>        <th class=\"blank\" ></th>        <th class=\"blank\" ></th>        <th class=\"blank\" ></th>        <th class=\"blank\" ></th>        <th class=\"blank\" ></th>    </tr></thead><tbody>\n",
              "                <tr>\n",
              "                        <th id=\"T_d3c5372e_53f7_11eb_9080_0242ac1c0002level0_row0\" class=\"row_heading level0 row0\" > 36 months</th>\n",
              "                        <td id=\"T_d3c5372e_53f7_11eb_9080_0242ac1c0002row0_col0\" class=\"data row0 col0\" >62737</td>\n",
              "                        <td id=\"T_d3c5372e_53f7_11eb_9080_0242ac1c0002row0_col1\" class=\"data row0 col1\" >104285</td>\n",
              "                        <td id=\"T_d3c5372e_53f7_11eb_9080_0242ac1c0002row0_col2\" class=\"data row0 col2\" >79388</td>\n",
              "                        <td id=\"T_d3c5372e_53f7_11eb_9080_0242ac1c0002row0_col3\" class=\"data row0 col3\" >41151</td>\n",
              "                        <td id=\"T_d3c5372e_53f7_11eb_9080_0242ac1c0002row0_col4\" class=\"data row0 col4\" >11587</td>\n",
              "                        <td id=\"T_d3c5372e_53f7_11eb_9080_0242ac1c0002row0_col5\" class=\"data row0 col5\" >2483</td>\n",
              "                        <td id=\"T_d3c5372e_53f7_11eb_9080_0242ac1c0002row0_col6\" class=\"data row0 col6\" >374</td>\n",
              "            </tr>\n",
              "            <tr>\n",
              "                        <th id=\"T_d3c5372e_53f7_11eb_9080_0242ac1c0002level0_row1\" class=\"row_heading level0 row1\" > 60 months</th>\n",
              "                        <td id=\"T_d3c5372e_53f7_11eb_9080_0242ac1c0002row1_col0\" class=\"data row1 col0\" >1450</td>\n",
              "                        <td id=\"T_d3c5372e_53f7_11eb_9080_0242ac1c0002row1_col1\" class=\"data row1 col1\" >11733</td>\n",
              "                        <td id=\"T_d3c5372e_53f7_11eb_9080_0242ac1c0002row1_col2\" class=\"data row1 col2\" >26599</td>\n",
              "                        <td id=\"T_d3c5372e_53f7_11eb_9080_0242ac1c0002row1_col3\" class=\"data row1 col3\" >22373</td>\n",
              "                        <td id=\"T_d3c5372e_53f7_11eb_9080_0242ac1c0002row1_col4\" class=\"data row1 col4\" >19901</td>\n",
              "                        <td id=\"T_d3c5372e_53f7_11eb_9080_0242ac1c0002row1_col5\" class=\"data row1 col5\" >9289</td>\n",
              "                        <td id=\"T_d3c5372e_53f7_11eb_9080_0242ac1c0002row1_col6\" class=\"data row1 col6\" >2680</td>\n",
              "            </tr>\n",
              "    </tbody></table>"
            ],
            "text/plain": [
              "<pandas.io.formats.style.Styler at 0x7f0e79b3f668>"
            ]
          },
          "metadata": {
            "tags": []
          },
          "execution_count": 14
        }
      ]
    },
    {
      "cell_type": "code",
      "metadata": {
        "colab": {
          "base_uri": "https://localhost:8080/",
          "height": 124
        },
        "id": "O-2AtCI6WCFv",
        "outputId": "c8fa63d7-9f1d-4f2a-a78c-035ac03012f2"
      },
      "source": [
        "app_type_loan_stat = ['application_type','loan_status']\n",
        "cm = sns.light_palette(\"orange\", as_cmap=True)\n",
        "pd.crosstab(df[app_type_loan_stat[0]], df[app_type_loan_stat[1]]).style.background_gradient(cmap = cm)"
      ],
      "execution_count": 15,
      "outputs": [
        {
          "output_type": "execute_result",
          "data": {
            "text/html": [
              "<style  type=\"text/css\" >\n",
              "#T_d4559f6c_53f7_11eb_9080_0242ac1c0002row0_col0,#T_d4559f6c_53f7_11eb_9080_0242ac1c0002row0_col1,#T_d4559f6c_53f7_11eb_9080_0242ac1c0002row2_col0,#T_d4559f6c_53f7_11eb_9080_0242ac1c0002row2_col1{\n",
              "            background-color:  #f3f0ee;\n",
              "            color:  #000000;\n",
              "        }#T_d4559f6c_53f7_11eb_9080_0242ac1c0002row1_col0,#T_d4559f6c_53f7_11eb_9080_0242ac1c0002row1_col1{\n",
              "            background-color:  #ffa500;\n",
              "            color:  #000000;\n",
              "        }</style><table id=\"T_d4559f6c_53f7_11eb_9080_0242ac1c0002\" ><thead>    <tr>        <th class=\"index_name level0\" >loan_status</th>        <th class=\"col_heading level0 col0\" >Charged Off</th>        <th class=\"col_heading level0 col1\" >Fully Paid</th>    </tr>    <tr>        <th class=\"index_name level0\" >application_type</th>        <th class=\"blank\" ></th>        <th class=\"blank\" ></th>    </tr></thead><tbody>\n",
              "                <tr>\n",
              "                        <th id=\"T_d4559f6c_53f7_11eb_9080_0242ac1c0002level0_row0\" class=\"row_heading level0 row0\" >DIRECT_PAY</th>\n",
              "                        <td id=\"T_d4559f6c_53f7_11eb_9080_0242ac1c0002row0_col0\" class=\"data row0 col0\" >102</td>\n",
              "                        <td id=\"T_d4559f6c_53f7_11eb_9080_0242ac1c0002row0_col1\" class=\"data row0 col1\" >184</td>\n",
              "            </tr>\n",
              "            <tr>\n",
              "                        <th id=\"T_d4559f6c_53f7_11eb_9080_0242ac1c0002level0_row1\" class=\"row_heading level0 row1\" >INDIVIDUAL</th>\n",
              "                        <td id=\"T_d4559f6c_53f7_11eb_9080_0242ac1c0002row1_col0\" class=\"data row1 col0\" >77517</td>\n",
              "                        <td id=\"T_d4559f6c_53f7_11eb_9080_0242ac1c0002row1_col1\" class=\"data row1 col1\" >317802</td>\n",
              "            </tr>\n",
              "            <tr>\n",
              "                        <th id=\"T_d4559f6c_53f7_11eb_9080_0242ac1c0002level0_row2\" class=\"row_heading level0 row2\" >JOINT</th>\n",
              "                        <td id=\"T_d4559f6c_53f7_11eb_9080_0242ac1c0002row2_col0\" class=\"data row2 col0\" >54</td>\n",
              "                        <td id=\"T_d4559f6c_53f7_11eb_9080_0242ac1c0002row2_col1\" class=\"data row2 col1\" >371</td>\n",
              "            </tr>\n",
              "    </tbody></table>"
            ],
            "text/plain": [
              "<pandas.io.formats.style.Styler at 0x7f0ec740e080>"
            ]
          },
          "metadata": {
            "tags": []
          },
          "execution_count": 15
        }
      ]
    },
    {
      "cell_type": "code",
      "metadata": {
        "colab": {
          "base_uri": "https://localhost:8080/",
          "height": 103
        },
        "id": "aPHZmcp_WCFv",
        "outputId": "dd718769-3252-46cc-f225-fdc1587bceb0"
      },
      "source": [
        "loan_stat_home = ['loan_status','home_ownership']\n",
        "cm = sns.light_palette(\"orange\", as_cmap=True)\n",
        "pd.crosstab(df[loan_stat_home[0]], df[loan_stat_home[1]]).style.background_gradient(cmap = cm)"
      ],
      "execution_count": 16,
      "outputs": [
        {
          "output_type": "execute_result",
          "data": {
            "text/html": [
              "<style  type=\"text/css\" >\n",
              "#T_d4c6ee2e_53f7_11eb_9080_0242ac1c0002row0_col0,#T_d4c6ee2e_53f7_11eb_9080_0242ac1c0002row0_col1,#T_d4c6ee2e_53f7_11eb_9080_0242ac1c0002row0_col2,#T_d4c6ee2e_53f7_11eb_9080_0242ac1c0002row0_col3,#T_d4c6ee2e_53f7_11eb_9080_0242ac1c0002row0_col4,#T_d4c6ee2e_53f7_11eb_9080_0242ac1c0002row0_col5{\n",
              "            background-color:  #f3f0ee;\n",
              "            color:  #000000;\n",
              "        }#T_d4c6ee2e_53f7_11eb_9080_0242ac1c0002row1_col0,#T_d4c6ee2e_53f7_11eb_9080_0242ac1c0002row1_col1,#T_d4c6ee2e_53f7_11eb_9080_0242ac1c0002row1_col2,#T_d4c6ee2e_53f7_11eb_9080_0242ac1c0002row1_col3,#T_d4c6ee2e_53f7_11eb_9080_0242ac1c0002row1_col4,#T_d4c6ee2e_53f7_11eb_9080_0242ac1c0002row1_col5{\n",
              "            background-color:  #ffa500;\n",
              "            color:  #000000;\n",
              "        }</style><table id=\"T_d4c6ee2e_53f7_11eb_9080_0242ac1c0002\" ><thead>    <tr>        <th class=\"index_name level0\" >home_ownership</th>        <th class=\"col_heading level0 col0\" >ANY</th>        <th class=\"col_heading level0 col1\" >MORTGAGE</th>        <th class=\"col_heading level0 col2\" >NONE</th>        <th class=\"col_heading level0 col3\" >OTHER</th>        <th class=\"col_heading level0 col4\" >OWN</th>        <th class=\"col_heading level0 col5\" >RENT</th>    </tr>    <tr>        <th class=\"index_name level0\" >loan_status</th>        <th class=\"blank\" ></th>        <th class=\"blank\" ></th>        <th class=\"blank\" ></th>        <th class=\"blank\" ></th>        <th class=\"blank\" ></th>        <th class=\"blank\" ></th>    </tr></thead><tbody>\n",
              "                <tr>\n",
              "                        <th id=\"T_d4c6ee2e_53f7_11eb_9080_0242ac1c0002level0_row0\" class=\"row_heading level0 row0\" >Charged Off</th>\n",
              "                        <td id=\"T_d4c6ee2e_53f7_11eb_9080_0242ac1c0002row0_col0\" class=\"data row0 col0\" >0</td>\n",
              "                        <td id=\"T_d4c6ee2e_53f7_11eb_9080_0242ac1c0002row0_col1\" class=\"data row0 col1\" >33632</td>\n",
              "                        <td id=\"T_d4c6ee2e_53f7_11eb_9080_0242ac1c0002row0_col2\" class=\"data row0 col2\" >7</td>\n",
              "                        <td id=\"T_d4c6ee2e_53f7_11eb_9080_0242ac1c0002row0_col3\" class=\"data row0 col3\" >16</td>\n",
              "                        <td id=\"T_d4c6ee2e_53f7_11eb_9080_0242ac1c0002row0_col4\" class=\"data row0 col4\" >7806</td>\n",
              "                        <td id=\"T_d4c6ee2e_53f7_11eb_9080_0242ac1c0002row0_col5\" class=\"data row0 col5\" >36212</td>\n",
              "            </tr>\n",
              "            <tr>\n",
              "                        <th id=\"T_d4c6ee2e_53f7_11eb_9080_0242ac1c0002level0_row1\" class=\"row_heading level0 row1\" >Fully Paid</th>\n",
              "                        <td id=\"T_d4c6ee2e_53f7_11eb_9080_0242ac1c0002row1_col0\" class=\"data row1 col0\" >3</td>\n",
              "                        <td id=\"T_d4c6ee2e_53f7_11eb_9080_0242ac1c0002row1_col1\" class=\"data row1 col1\" >164716</td>\n",
              "                        <td id=\"T_d4c6ee2e_53f7_11eb_9080_0242ac1c0002row1_col2\" class=\"data row1 col2\" >24</td>\n",
              "                        <td id=\"T_d4c6ee2e_53f7_11eb_9080_0242ac1c0002row1_col3\" class=\"data row1 col3\" >96</td>\n",
              "                        <td id=\"T_d4c6ee2e_53f7_11eb_9080_0242ac1c0002row1_col4\" class=\"data row1 col4\" >29940</td>\n",
              "                        <td id=\"T_d4c6ee2e_53f7_11eb_9080_0242ac1c0002row1_col5\" class=\"data row1 col5\" >123578</td>\n",
              "            </tr>\n",
              "    </tbody></table>"
            ],
            "text/plain": [
              "<pandas.io.formats.style.Styler at 0x7f0e8d405080>"
            ]
          },
          "metadata": {
            "tags": []
          },
          "execution_count": 16
        }
      ]
    },
    {
      "cell_type": "code",
      "metadata": {
        "colab": {
          "base_uri": "https://localhost:8080/",
          "height": 103
        },
        "id": "OLWkf14MWCFv",
        "outputId": "43ffc896-82da-4607-8ac9-bbf73767a1ca"
      },
      "source": [
        "loan_stat_term = ['loan_status','term']\n",
        "cm = sns.light_palette(\"orange\", as_cmap=True)\n",
        "pd.crosstab(df[loan_stat_term[0]], df[loan_stat_term[1]]).style.background_gradient(cmap = cm)"
      ],
      "execution_count": 17,
      "outputs": [
        {
          "output_type": "execute_result",
          "data": {
            "text/html": [
              "<style  type=\"text/css\" >\n",
              "#T_d5ff1ea6_53f7_11eb_9080_0242ac1c0002row0_col0,#T_d5ff1ea6_53f7_11eb_9080_0242ac1c0002row0_col1{\n",
              "            background-color:  #f3f0ee;\n",
              "            color:  #000000;\n",
              "        }#T_d5ff1ea6_53f7_11eb_9080_0242ac1c0002row1_col0,#T_d5ff1ea6_53f7_11eb_9080_0242ac1c0002row1_col1{\n",
              "            background-color:  #ffa500;\n",
              "            color:  #000000;\n",
              "        }</style><table id=\"T_d5ff1ea6_53f7_11eb_9080_0242ac1c0002\" ><thead>    <tr>        <th class=\"index_name level0\" >term</th>        <th class=\"col_heading level0 col0\" > 36 months</th>        <th class=\"col_heading level0 col1\" > 60 months</th>    </tr>    <tr>        <th class=\"index_name level0\" >loan_status</th>        <th class=\"blank\" ></th>        <th class=\"blank\" ></th>    </tr></thead><tbody>\n",
              "                <tr>\n",
              "                        <th id=\"T_d5ff1ea6_53f7_11eb_9080_0242ac1c0002level0_row0\" class=\"row_heading level0 row0\" >Charged Off</th>\n",
              "                        <td id=\"T_d5ff1ea6_53f7_11eb_9080_0242ac1c0002row0_col0\" class=\"data row0 col0\" >47640</td>\n",
              "                        <td id=\"T_d5ff1ea6_53f7_11eb_9080_0242ac1c0002row0_col1\" class=\"data row0 col1\" >30033</td>\n",
              "            </tr>\n",
              "            <tr>\n",
              "                        <th id=\"T_d5ff1ea6_53f7_11eb_9080_0242ac1c0002level0_row1\" class=\"row_heading level0 row1\" >Fully Paid</th>\n",
              "                        <td id=\"T_d5ff1ea6_53f7_11eb_9080_0242ac1c0002row1_col0\" class=\"data row1 col0\" >254365</td>\n",
              "                        <td id=\"T_d5ff1ea6_53f7_11eb_9080_0242ac1c0002row1_col1\" class=\"data row1 col1\" >63992</td>\n",
              "            </tr>\n",
              "    </tbody></table>"
            ],
            "text/plain": [
              "<pandas.io.formats.style.Styler at 0x7f0e7f1b65c0>"
            ]
          },
          "metadata": {
            "tags": []
          },
          "execution_count": 17
        }
      ]
    },
    {
      "cell_type": "code",
      "metadata": {
        "colab": {
          "base_uri": "https://localhost:8080/",
          "height": 354
        },
        "id": "oEH2qjz5WCFv",
        "outputId": "eb8dc005-9351-4fee-b4a1-78aef98fd3ee"
      },
      "source": [
        "loan_stat_purpose = ['purpose','loan_status']\n",
        "cm = sns.light_palette(\"orange\", as_cmap=True)\n",
        "pd.crosstab(df[loan_stat_purpose[0]], df[loan_stat_purpose[1]]).style.background_gradient(cmap = cm)"
      ],
      "execution_count": 18,
      "outputs": [
        {
          "output_type": "execute_result",
          "data": {
            "text/html": [
              "<style  type=\"text/css\" >\n",
              "#T_d647b562_53f7_11eb_9080_0242ac1c0002row0_col0,#T_d647b562_53f7_11eb_9080_0242ac1c0002row8_col0{\n",
              "            background-color:  #f3efec;\n",
              "            color:  #000000;\n",
              "        }#T_d647b562_53f7_11eb_9080_0242ac1c0002row0_col1,#T_d647b562_53f7_11eb_9080_0242ac1c0002row11_col1{\n",
              "            background-color:  #f3efea;\n",
              "            color:  #000000;\n",
              "        }#T_d647b562_53f7_11eb_9080_0242ac1c0002row1_col0{\n",
              "            background-color:  #f6dbab;\n",
              "            color:  #000000;\n",
              "        }#T_d647b562_53f7_11eb_9080_0242ac1c0002row1_col1{\n",
              "            background-color:  #f7d496;\n",
              "            color:  #000000;\n",
              "        }#T_d647b562_53f7_11eb_9080_0242ac1c0002row2_col0,#T_d647b562_53f7_11eb_9080_0242ac1c0002row2_col1{\n",
              "            background-color:  #ffa500;\n",
              "            color:  #000000;\n",
              "        }#T_d647b562_53f7_11eb_9080_0242ac1c0002row3_col0,#T_d647b562_53f7_11eb_9080_0242ac1c0002row3_col1,#T_d647b562_53f7_11eb_9080_0242ac1c0002row10_col0,#T_d647b562_53f7_11eb_9080_0242ac1c0002row10_col1,#T_d647b562_53f7_11eb_9080_0242ac1c0002row13_col0{\n",
              "            background-color:  #f3f0ee;\n",
              "            color:  #000000;\n",
              "        }#T_d647b562_53f7_11eb_9080_0242ac1c0002row4_col0{\n",
              "            background-color:  #f4eadb;\n",
              "            color:  #000000;\n",
              "        }#T_d647b562_53f7_11eb_9080_0242ac1c0002row4_col1{\n",
              "            background-color:  #f4e8d5;\n",
              "            color:  #000000;\n",
              "        }#T_d647b562_53f7_11eb_9080_0242ac1c0002row5_col0,#T_d647b562_53f7_11eb_9080_0242ac1c0002row5_col1,#T_d647b562_53f7_11eb_9080_0242ac1c0002row8_col1,#T_d647b562_53f7_11eb_9080_0242ac1c0002row12_col0,#T_d647b562_53f7_11eb_9080_0242ac1c0002row12_col1,#T_d647b562_53f7_11eb_9080_0242ac1c0002row13_col1{\n",
              "            background-color:  #f3f0ed;\n",
              "            color:  #000000;\n",
              "        }#T_d647b562_53f7_11eb_9080_0242ac1c0002row6_col0{\n",
              "            background-color:  #f3eee8;\n",
              "            color:  #000000;\n",
              "        }#T_d647b562_53f7_11eb_9080_0242ac1c0002row6_col1{\n",
              "            background-color:  #f3ede6;\n",
              "            color:  #000000;\n",
              "        }#T_d647b562_53f7_11eb_9080_0242ac1c0002row7_col0,#T_d647b562_53f7_11eb_9080_0242ac1c0002row7_col1{\n",
              "            background-color:  #f3efeb;\n",
              "            color:  #000000;\n",
              "        }#T_d647b562_53f7_11eb_9080_0242ac1c0002row9_col0{\n",
              "            background-color:  #f4e9d9;\n",
              "            color:  #000000;\n",
              "        }#T_d647b562_53f7_11eb_9080_0242ac1c0002row9_col1{\n",
              "            background-color:  #f4eada;\n",
              "            color:  #000000;\n",
              "        }#T_d647b562_53f7_11eb_9080_0242ac1c0002row11_col0{\n",
              "            background-color:  #f3eee7;\n",
              "            color:  #000000;\n",
              "        }</style><table id=\"T_d647b562_53f7_11eb_9080_0242ac1c0002\" ><thead>    <tr>        <th class=\"index_name level0\" >loan_status</th>        <th class=\"col_heading level0 col0\" >Charged Off</th>        <th class=\"col_heading level0 col1\" >Fully Paid</th>    </tr>    <tr>        <th class=\"index_name level0\" >purpose</th>        <th class=\"blank\" ></th>        <th class=\"blank\" ></th>    </tr></thead><tbody>\n",
              "                <tr>\n",
              "                        <th id=\"T_d647b562_53f7_11eb_9080_0242ac1c0002level0_row0\" class=\"row_heading level0 row0\" >car</th>\n",
              "                        <td id=\"T_d647b562_53f7_11eb_9080_0242ac1c0002row0_col0\" class=\"data row0 col0\" >633</td>\n",
              "                        <td id=\"T_d647b562_53f7_11eb_9080_0242ac1c0002row0_col1\" class=\"data row0 col1\" >4064</td>\n",
              "            </tr>\n",
              "            <tr>\n",
              "                        <th id=\"T_d647b562_53f7_11eb_9080_0242ac1c0002level0_row1\" class=\"row_heading level0 row1\" >credit_card</th>\n",
              "                        <td id=\"T_d647b562_53f7_11eb_9080_0242ac1c0002row1_col0\" class=\"data row1 col0\" >13874</td>\n",
              "                        <td id=\"T_d647b562_53f7_11eb_9080_0242ac1c0002row1_col1\" class=\"data row1 col1\" >69145</td>\n",
              "            </tr>\n",
              "            <tr>\n",
              "                        <th id=\"T_d647b562_53f7_11eb_9080_0242ac1c0002level0_row2\" class=\"row_heading level0 row2\" >debt_consolidation</th>\n",
              "                        <td id=\"T_d647b562_53f7_11eb_9080_0242ac1c0002row2_col0\" class=\"data row2 col0\" >48640</td>\n",
              "                        <td id=\"T_d647b562_53f7_11eb_9080_0242ac1c0002row2_col1\" class=\"data row2 col1\" >185867</td>\n",
              "            </tr>\n",
              "            <tr>\n",
              "                        <th id=\"T_d647b562_53f7_11eb_9080_0242ac1c0002level0_row3\" class=\"row_heading level0 row3\" >educational</th>\n",
              "                        <td id=\"T_d647b562_53f7_11eb_9080_0242ac1c0002row3_col0\" class=\"data row3 col0\" >42</td>\n",
              "                        <td id=\"T_d647b562_53f7_11eb_9080_0242ac1c0002row3_col1\" class=\"data row3 col1\" >215</td>\n",
              "            </tr>\n",
              "            <tr>\n",
              "                        <th id=\"T_d647b562_53f7_11eb_9080_0242ac1c0002level0_row4\" class=\"row_heading level0 row4\" >home_improvement</th>\n",
              "                        <td id=\"T_d647b562_53f7_11eb_9080_0242ac1c0002row4_col0\" class=\"data row4 col0\" >4087</td>\n",
              "                        <td id=\"T_d647b562_53f7_11eb_9080_0242ac1c0002row4_col1\" class=\"data row4 col1\" >19943</td>\n",
              "            </tr>\n",
              "            <tr>\n",
              "                        <th id=\"T_d647b562_53f7_11eb_9080_0242ac1c0002level0_row5\" class=\"row_heading level0 row5\" >house</th>\n",
              "                        <td id=\"T_d647b562_53f7_11eb_9080_0242ac1c0002row5_col0\" class=\"data row5 col0\" >434</td>\n",
              "                        <td id=\"T_d647b562_53f7_11eb_9080_0242ac1c0002row5_col1\" class=\"data row5 col1\" >1767</td>\n",
              "            </tr>\n",
              "            <tr>\n",
              "                        <th id=\"T_d647b562_53f7_11eb_9080_0242ac1c0002level0_row6\" class=\"row_heading level0 row6\" >major_purchase</th>\n",
              "                        <td id=\"T_d647b562_53f7_11eb_9080_0242ac1c0002row6_col0\" class=\"data row6 col0\" >1448</td>\n",
              "                        <td id=\"T_d647b562_53f7_11eb_9080_0242ac1c0002row6_col1\" class=\"data row6 col1\" >7342</td>\n",
              "            </tr>\n",
              "            <tr>\n",
              "                        <th id=\"T_d647b562_53f7_11eb_9080_0242ac1c0002level0_row7\" class=\"row_heading level0 row7\" >medical</th>\n",
              "                        <td id=\"T_d647b562_53f7_11eb_9080_0242ac1c0002row7_col0\" class=\"data row7 col0\" >911</td>\n",
              "                        <td id=\"T_d647b562_53f7_11eb_9080_0242ac1c0002row7_col1\" class=\"data row7 col1\" >3285</td>\n",
              "            </tr>\n",
              "            <tr>\n",
              "                        <th id=\"T_d647b562_53f7_11eb_9080_0242ac1c0002level0_row8\" class=\"row_heading level0 row8\" >moving</th>\n",
              "                        <td id=\"T_d647b562_53f7_11eb_9080_0242ac1c0002row8_col0\" class=\"data row8 col0\" >670</td>\n",
              "                        <td id=\"T_d647b562_53f7_11eb_9080_0242ac1c0002row8_col1\" class=\"data row8 col1\" >2184</td>\n",
              "            </tr>\n",
              "            <tr>\n",
              "                        <th id=\"T_d647b562_53f7_11eb_9080_0242ac1c0002level0_row9\" class=\"row_heading level0 row9\" >other</th>\n",
              "                        <td id=\"T_d647b562_53f7_11eb_9080_0242ac1c0002row9_col0\" class=\"data row9 col0\" >4495</td>\n",
              "                        <td id=\"T_d647b562_53f7_11eb_9080_0242ac1c0002row9_col1\" class=\"data row9 col1\" >16690</td>\n",
              "            </tr>\n",
              "            <tr>\n",
              "                        <th id=\"T_d647b562_53f7_11eb_9080_0242ac1c0002level0_row10\" class=\"row_heading level0 row10\" >renewable_energy</th>\n",
              "                        <td id=\"T_d647b562_53f7_11eb_9080_0242ac1c0002row10_col0\" class=\"data row10 col0\" >77</td>\n",
              "                        <td id=\"T_d647b562_53f7_11eb_9080_0242ac1c0002row10_col1\" class=\"data row10 col1\" >252</td>\n",
              "            </tr>\n",
              "            <tr>\n",
              "                        <th id=\"T_d647b562_53f7_11eb_9080_0242ac1c0002level0_row11\" class=\"row_heading level0 row11\" >small_business</th>\n",
              "                        <td id=\"T_d647b562_53f7_11eb_9080_0242ac1c0002row11_col0\" class=\"data row11 col0\" >1679</td>\n",
              "                        <td id=\"T_d647b562_53f7_11eb_9080_0242ac1c0002row11_col1\" class=\"data row11 col1\" >4022</td>\n",
              "            </tr>\n",
              "            <tr>\n",
              "                        <th id=\"T_d647b562_53f7_11eb_9080_0242ac1c0002level0_row12\" class=\"row_heading level0 row12\" >vacation</th>\n",
              "                        <td id=\"T_d647b562_53f7_11eb_9080_0242ac1c0002row12_col0\" class=\"data row12 col0\" >464</td>\n",
              "                        <td id=\"T_d647b562_53f7_11eb_9080_0242ac1c0002row12_col1\" class=\"data row12 col1\" >1988</td>\n",
              "            </tr>\n",
              "            <tr>\n",
              "                        <th id=\"T_d647b562_53f7_11eb_9080_0242ac1c0002level0_row13\" class=\"row_heading level0 row13\" >wedding</th>\n",
              "                        <td id=\"T_d647b562_53f7_11eb_9080_0242ac1c0002row13_col0\" class=\"data row13 col0\" >219</td>\n",
              "                        <td id=\"T_d647b562_53f7_11eb_9080_0242ac1c0002row13_col1\" class=\"data row13 col1\" >1593</td>\n",
              "            </tr>\n",
              "    </tbody></table>"
            ],
            "text/plain": [
              "<pandas.io.formats.style.Styler at 0x7f0e7f1b6a58>"
            ]
          },
          "metadata": {
            "tags": []
          },
          "execution_count": 18
        }
      ]
    },
    {
      "cell_type": "code",
      "metadata": {
        "colab": {
          "base_uri": "https://localhost:8080/",
          "height": 124
        },
        "id": "Uf92eXW_WCFw",
        "outputId": "cff69443-2326-4049-8728-32c42e354814"
      },
      "source": [
        "loan_stat_verification = ['verification_status','loan_status']\n",
        "cm = sns.light_palette(\"orange\", as_cmap=True)\n",
        "pd.crosstab(df[loan_stat_verification[0]], df[loan_stat_verification[1]]).style.background_gradient(cmap = cm)"
      ],
      "execution_count": 19,
      "outputs": [
        {
          "output_type": "execute_result",
          "data": {
            "text/html": [
              "<style  type=\"text/css\" >\n",
              "#T_d6acaa08_53f7_11eb_9080_0242ac1c0002row0_col0,#T_d6acaa08_53f7_11eb_9080_0242ac1c0002row1_col1{\n",
              "            background-color:  #f3f0ee;\n",
              "            color:  #000000;\n",
              "        }#T_d6acaa08_53f7_11eb_9080_0242ac1c0002row0_col1{\n",
              "            background-color:  #fbbc4a;\n",
              "            color:  #000000;\n",
              "        }#T_d6acaa08_53f7_11eb_9080_0242ac1c0002row1_col0{\n",
              "            background-color:  #fcb636;\n",
              "            color:  #000000;\n",
              "        }#T_d6acaa08_53f7_11eb_9080_0242ac1c0002row2_col0,#T_d6acaa08_53f7_11eb_9080_0242ac1c0002row2_col1{\n",
              "            background-color:  #ffa500;\n",
              "            color:  #000000;\n",
              "        }</style><table id=\"T_d6acaa08_53f7_11eb_9080_0242ac1c0002\" ><thead>    <tr>        <th class=\"index_name level0\" >loan_status</th>        <th class=\"col_heading level0 col0\" >Charged Off</th>        <th class=\"col_heading level0 col1\" >Fully Paid</th>    </tr>    <tr>        <th class=\"index_name level0\" >verification_status</th>        <th class=\"blank\" ></th>        <th class=\"blank\" ></th>    </tr></thead><tbody>\n",
              "                <tr>\n",
              "                        <th id=\"T_d6acaa08_53f7_11eb_9080_0242ac1c0002level0_row0\" class=\"row_heading level0 row0\" >Not Verified</th>\n",
              "                        <td id=\"T_d6acaa08_53f7_11eb_9080_0242ac1c0002row0_col0\" class=\"data row0 col0\" >18307</td>\n",
              "                        <td id=\"T_d6acaa08_53f7_11eb_9080_0242ac1c0002row0_col1\" class=\"data row0 col1\" >106775</td>\n",
              "            </tr>\n",
              "            <tr>\n",
              "                        <th id=\"T_d6acaa08_53f7_11eb_9080_0242ac1c0002level0_row1\" class=\"row_heading level0 row1\" >Source Verified</th>\n",
              "                        <td id=\"T_d6acaa08_53f7_11eb_9080_0242ac1c0002row1_col0\" class=\"data row1 col0\" >28214</td>\n",
              "                        <td id=\"T_d6acaa08_53f7_11eb_9080_0242ac1c0002row1_col1\" class=\"data row1 col1\" >103171</td>\n",
              "            </tr>\n",
              "            <tr>\n",
              "                        <th id=\"T_d6acaa08_53f7_11eb_9080_0242ac1c0002level0_row2\" class=\"row_heading level0 row2\" >Verified</th>\n",
              "                        <td id=\"T_d6acaa08_53f7_11eb_9080_0242ac1c0002row2_col0\" class=\"data row2 col0\" >31152</td>\n",
              "                        <td id=\"T_d6acaa08_53f7_11eb_9080_0242ac1c0002row2_col1\" class=\"data row2 col1\" >108411</td>\n",
              "            </tr>\n",
              "    </tbody></table>"
            ],
            "text/plain": [
              "<pandas.io.formats.style.Styler at 0x7f0e7ea55c18>"
            ]
          },
          "metadata": {
            "tags": []
          },
          "execution_count": 19
        }
      ]
    },
    {
      "cell_type": "code",
      "metadata": {
        "colab": {
          "base_uri": "https://localhost:8080/",
          "height": 103
        },
        "id": "vctteieCWCFw",
        "outputId": "ecd81da1-b7a9-44f0-aaeb-e86ec3eaf66f"
      },
      "source": [
        "loan_stat_bankrupt = ['loan_status','pub_rec_bankruptcies']\n",
        "cm = sns.light_palette(\"orange\", as_cmap=True)\n",
        "pd.crosstab(df[loan_stat_bankrupt[0]], df[loan_stat_bankrupt[1]]).style.background_gradient(cmap = cm)"
      ],
      "execution_count": 20,
      "outputs": [
        {
          "output_type": "execute_result",
          "data": {
            "text/html": [
              "<style  type=\"text/css\" >\n",
              "#T_d6e8058a_53f7_11eb_9080_0242ac1c0002row0_col0,#T_d6e8058a_53f7_11eb_9080_0242ac1c0002row0_col1,#T_d6e8058a_53f7_11eb_9080_0242ac1c0002row0_col2,#T_d6e8058a_53f7_11eb_9080_0242ac1c0002row0_col3,#T_d6e8058a_53f7_11eb_9080_0242ac1c0002row0_col4,#T_d6e8058a_53f7_11eb_9080_0242ac1c0002row0_col5,#T_d6e8058a_53f7_11eb_9080_0242ac1c0002row0_col6,#T_d6e8058a_53f7_11eb_9080_0242ac1c0002row0_col7,#T_d6e8058a_53f7_11eb_9080_0242ac1c0002row0_col8,#T_d6e8058a_53f7_11eb_9080_0242ac1c0002row1_col8{\n",
              "            background-color:  #f3f0ee;\n",
              "            color:  #000000;\n",
              "        }#T_d6e8058a_53f7_11eb_9080_0242ac1c0002row1_col0,#T_d6e8058a_53f7_11eb_9080_0242ac1c0002row1_col1,#T_d6e8058a_53f7_11eb_9080_0242ac1c0002row1_col2,#T_d6e8058a_53f7_11eb_9080_0242ac1c0002row1_col3,#T_d6e8058a_53f7_11eb_9080_0242ac1c0002row1_col4,#T_d6e8058a_53f7_11eb_9080_0242ac1c0002row1_col5,#T_d6e8058a_53f7_11eb_9080_0242ac1c0002row1_col6,#T_d6e8058a_53f7_11eb_9080_0242ac1c0002row1_col7{\n",
              "            background-color:  #ffa500;\n",
              "            color:  #000000;\n",
              "        }</style><table id=\"T_d6e8058a_53f7_11eb_9080_0242ac1c0002\" ><thead>    <tr>        <th class=\"index_name level0\" >pub_rec_bankruptcies</th>        <th class=\"col_heading level0 col0\" >0.0</th>        <th class=\"col_heading level0 col1\" >1.0</th>        <th class=\"col_heading level0 col2\" >2.0</th>        <th class=\"col_heading level0 col3\" >3.0</th>        <th class=\"col_heading level0 col4\" >4.0</th>        <th class=\"col_heading level0 col5\" >5.0</th>        <th class=\"col_heading level0 col6\" >6.0</th>        <th class=\"col_heading level0 col7\" >7.0</th>        <th class=\"col_heading level0 col8\" >8.0</th>    </tr>    <tr>        <th class=\"index_name level0\" >loan_status</th>        <th class=\"blank\" ></th>        <th class=\"blank\" ></th>        <th class=\"blank\" ></th>        <th class=\"blank\" ></th>        <th class=\"blank\" ></th>        <th class=\"blank\" ></th>        <th class=\"blank\" ></th>        <th class=\"blank\" ></th>        <th class=\"blank\" ></th>    </tr></thead><tbody>\n",
              "                <tr>\n",
              "                        <th id=\"T_d6e8058a_53f7_11eb_9080_0242ac1c0002level0_row0\" class=\"row_heading level0 row0\" >Charged Off</th>\n",
              "                        <td id=\"T_d6e8058a_53f7_11eb_9080_0242ac1c0002row0_col0\" class=\"data row0 col0\" >68321</td>\n",
              "                        <td id=\"T_d6e8058a_53f7_11eb_9080_0242ac1c0002row0_col1\" class=\"data row0 col1\" >8727</td>\n",
              "                        <td id=\"T_d6e8058a_53f7_11eb_9080_0242ac1c0002row0_col2\" class=\"data row0 col2\" >429</td>\n",
              "                        <td id=\"T_d6e8058a_53f7_11eb_9080_0242ac1c0002row0_col3\" class=\"data row0 col3\" >74</td>\n",
              "                        <td id=\"T_d6e8058a_53f7_11eb_9080_0242ac1c0002row0_col4\" class=\"data row0 col4\" >26</td>\n",
              "                        <td id=\"T_d6e8058a_53f7_11eb_9080_0242ac1c0002row0_col5\" class=\"data row0 col5\" >5</td>\n",
              "                        <td id=\"T_d6e8058a_53f7_11eb_9080_0242ac1c0002row0_col6\" class=\"data row0 col6\" >2</td>\n",
              "                        <td id=\"T_d6e8058a_53f7_11eb_9080_0242ac1c0002row0_col7\" class=\"data row0 col7\" >1</td>\n",
              "                        <td id=\"T_d6e8058a_53f7_11eb_9080_0242ac1c0002row0_col8\" class=\"data row0 col8\" >1</td>\n",
              "            </tr>\n",
              "            <tr>\n",
              "                        <th id=\"T_d6e8058a_53f7_11eb_9080_0242ac1c0002level0_row1\" class=\"row_heading level0 row1\" >Fully Paid</th>\n",
              "                        <td id=\"T_d6e8058a_53f7_11eb_9080_0242ac1c0002row1_col0\" class=\"data row1 col0\" >282059</td>\n",
              "                        <td id=\"T_d6e8058a_53f7_11eb_9080_0242ac1c0002row1_col1\" class=\"data row1 col1\" >34063</td>\n",
              "                        <td id=\"T_d6e8058a_53f7_11eb_9080_0242ac1c0002row1_col2\" class=\"data row1 col2\" >1418</td>\n",
              "                        <td id=\"T_d6e8058a_53f7_11eb_9080_0242ac1c0002row1_col3\" class=\"data row1 col3\" >277</td>\n",
              "                        <td id=\"T_d6e8058a_53f7_11eb_9080_0242ac1c0002row1_col4\" class=\"data row1 col4\" >56</td>\n",
              "                        <td id=\"T_d6e8058a_53f7_11eb_9080_0242ac1c0002row1_col5\" class=\"data row1 col5\" >27</td>\n",
              "                        <td id=\"T_d6e8058a_53f7_11eb_9080_0242ac1c0002row1_col6\" class=\"data row1 col6\" >5</td>\n",
              "                        <td id=\"T_d6e8058a_53f7_11eb_9080_0242ac1c0002row1_col7\" class=\"data row1 col7\" >3</td>\n",
              "                        <td id=\"T_d6e8058a_53f7_11eb_9080_0242ac1c0002row1_col8\" class=\"data row1 col8\" >1</td>\n",
              "            </tr>\n",
              "    </tbody></table>"
            ],
            "text/plain": [
              "<pandas.io.formats.style.Styler at 0x7f0e7ea55be0>"
            ]
          },
          "metadata": {
            "tags": []
          },
          "execution_count": 20
        }
      ]
    },
    {
      "cell_type": "code",
      "metadata": {
        "colab": {
          "base_uri": "https://localhost:8080/",
          "height": 103
        },
        "id": "kkjaIqS5aXOW",
        "outputId": "db49e847-96df-4994-d953-19254f2ff6f5"
      },
      "source": [
        "loan_stat_grade = ['loan_status','grade']\r\n",
        "cm = sns.light_palette(\"orange\", as_cmap=True)\r\n",
        "pd.crosstab(df[loan_stat_grade[0]], df[loan_stat_grade[1]]).style.background_gradient(cmap = cm)"
      ],
      "execution_count": 21,
      "outputs": [
        {
          "output_type": "execute_result",
          "data": {
            "text/html": [
              "<style  type=\"text/css\" >\n",
              "#T_d7479388_53f7_11eb_9080_0242ac1c0002row0_col0,#T_d7479388_53f7_11eb_9080_0242ac1c0002row0_col1,#T_d7479388_53f7_11eb_9080_0242ac1c0002row0_col2,#T_d7479388_53f7_11eb_9080_0242ac1c0002row0_col3,#T_d7479388_53f7_11eb_9080_0242ac1c0002row0_col4,#T_d7479388_53f7_11eb_9080_0242ac1c0002row0_col5,#T_d7479388_53f7_11eb_9080_0242ac1c0002row0_col6{\n",
              "            background-color:  #f3f0ee;\n",
              "            color:  #000000;\n",
              "        }#T_d7479388_53f7_11eb_9080_0242ac1c0002row1_col0,#T_d7479388_53f7_11eb_9080_0242ac1c0002row1_col1,#T_d7479388_53f7_11eb_9080_0242ac1c0002row1_col2,#T_d7479388_53f7_11eb_9080_0242ac1c0002row1_col3,#T_d7479388_53f7_11eb_9080_0242ac1c0002row1_col4,#T_d7479388_53f7_11eb_9080_0242ac1c0002row1_col5,#T_d7479388_53f7_11eb_9080_0242ac1c0002row1_col6{\n",
              "            background-color:  #ffa500;\n",
              "            color:  #000000;\n",
              "        }</style><table id=\"T_d7479388_53f7_11eb_9080_0242ac1c0002\" ><thead>    <tr>        <th class=\"index_name level0\" >grade</th>        <th class=\"col_heading level0 col0\" >A</th>        <th class=\"col_heading level0 col1\" >B</th>        <th class=\"col_heading level0 col2\" >C</th>        <th class=\"col_heading level0 col3\" >D</th>        <th class=\"col_heading level0 col4\" >E</th>        <th class=\"col_heading level0 col5\" >F</th>        <th class=\"col_heading level0 col6\" >G</th>    </tr>    <tr>        <th class=\"index_name level0\" >loan_status</th>        <th class=\"blank\" ></th>        <th class=\"blank\" ></th>        <th class=\"blank\" ></th>        <th class=\"blank\" ></th>        <th class=\"blank\" ></th>        <th class=\"blank\" ></th>        <th class=\"blank\" ></th>    </tr></thead><tbody>\n",
              "                <tr>\n",
              "                        <th id=\"T_d7479388_53f7_11eb_9080_0242ac1c0002level0_row0\" class=\"row_heading level0 row0\" >Charged Off</th>\n",
              "                        <td id=\"T_d7479388_53f7_11eb_9080_0242ac1c0002row0_col0\" class=\"data row0 col0\" >4036</td>\n",
              "                        <td id=\"T_d7479388_53f7_11eb_9080_0242ac1c0002row0_col1\" class=\"data row0 col1\" >14587</td>\n",
              "                        <td id=\"T_d7479388_53f7_11eb_9080_0242ac1c0002row0_col2\" class=\"data row0 col2\" >22449</td>\n",
              "                        <td id=\"T_d7479388_53f7_11eb_9080_0242ac1c0002row0_col3\" class=\"data row0 col3\" >18338</td>\n",
              "                        <td id=\"T_d7479388_53f7_11eb_9080_0242ac1c0002row0_col4\" class=\"data row0 col4\" >11765</td>\n",
              "                        <td id=\"T_d7479388_53f7_11eb_9080_0242ac1c0002row0_col5\" class=\"data row0 col5\" >5037</td>\n",
              "                        <td id=\"T_d7479388_53f7_11eb_9080_0242ac1c0002row0_col6\" class=\"data row0 col6\" >1461</td>\n",
              "            </tr>\n",
              "            <tr>\n",
              "                        <th id=\"T_d7479388_53f7_11eb_9080_0242ac1c0002level0_row1\" class=\"row_heading level0 row1\" >Fully Paid</th>\n",
              "                        <td id=\"T_d7479388_53f7_11eb_9080_0242ac1c0002row1_col0\" class=\"data row1 col0\" >60151</td>\n",
              "                        <td id=\"T_d7479388_53f7_11eb_9080_0242ac1c0002row1_col1\" class=\"data row1 col1\" >101431</td>\n",
              "                        <td id=\"T_d7479388_53f7_11eb_9080_0242ac1c0002row1_col2\" class=\"data row1 col2\" >83538</td>\n",
              "                        <td id=\"T_d7479388_53f7_11eb_9080_0242ac1c0002row1_col3\" class=\"data row1 col3\" >45186</td>\n",
              "                        <td id=\"T_d7479388_53f7_11eb_9080_0242ac1c0002row1_col4\" class=\"data row1 col4\" >19723</td>\n",
              "                        <td id=\"T_d7479388_53f7_11eb_9080_0242ac1c0002row1_col5\" class=\"data row1 col5\" >6735</td>\n",
              "                        <td id=\"T_d7479388_53f7_11eb_9080_0242ac1c0002row1_col6\" class=\"data row1 col6\" >1593</td>\n",
              "            </tr>\n",
              "    </tbody></table>"
            ],
            "text/plain": [
              "<pandas.io.formats.style.Styler at 0x7f0e7f1b60f0>"
            ]
          },
          "metadata": {
            "tags": []
          },
          "execution_count": 21
        }
      ]
    },
    {
      "cell_type": "code",
      "metadata": {
        "colab": {
          "base_uri": "https://localhost:8080/",
          "height": 732
        },
        "id": "R0HRyyXIWCFw",
        "outputId": "78f3b4a7-dbdd-4d2e-e232-923b94c8b067"
      },
      "source": [
        "plt.figure(figsize=(16,12))\n",
        "fig, ax = plt.subplots(nrows=2, figsize=(16,12))\n",
        "sns.boxplot(x='grade', y='loan_amnt', data=df, hue='term',ax=ax[0])\n",
        "sns.boxplot(x='loan_status', y='loan_amnt', data=df, hue='term', ax=ax[1])\n",
        "plt.show();"
      ],
      "execution_count": 22,
      "outputs": [
        {
          "output_type": "display_data",
          "data": {
            "text/plain": [
              "<Figure size 1152x864 with 0 Axes>"
            ]
          },
          "metadata": {
            "tags": []
          }
        },
        {
          "output_type": "display_data",
          "data": {
            "image/png": "[encoded data removed]",
            "text/plain": [
              "<Figure size 1152x864 with 2 Axes>"
            ]
          },
          "metadata": {
            "tags": []
          }
        }
      ]
    },
    {
      "cell_type": "code",
      "metadata": {
        "colab": {
          "base_uri": "https://localhost:8080/",
          "height": 515
        },
        "id": "Au3MeK2yWCFw",
        "outputId": "75513002-5f42-4fba-bd18-ea6e9ff4d637"
      },
      "source": [
        "plt.figure(figsize=(16,8))\n",
        "fig, ax = plt.subplots(nrows=2, figsize=(16,8))\n",
        "sns.boxplot(x='application_type', y='int_rate', data=df, hue='term',ax=ax[0])\n",
        "sns.boxplot(x='loan_status', y='int_rate', data=df, hue='term', ax=ax[1])\n",
        "plt.show();"
      ],
      "execution_count": 23,
      "outputs": [
        {
          "output_type": "display_data",
          "data": {
            "text/plain": [
              "<Figure size 1152x576 with 0 Axes>"
            ]
          },
          "metadata": {
            "tags": []
          }
        },
        {
          "output_type": "display_data",
          "data": {
            "image/png": "[encoded data removed]",
            "text/plain": [
              "<Figure size 1152x576 with 2 Axes>"
            ]
          },
          "metadata": {
            "tags": []
          }
        }
      ]
    },
    {
      "cell_type": "code",
      "metadata": {
        "colab": {
          "base_uri": "https://localhost:8080/",
          "height": 388
        },
        "id": "gXIIh8zDWCFx",
        "outputId": "32061589-8b27-4f0b-faac-dd7d32f025c6"
      },
      "source": [
        "plt.figure(figsize=(16,6))\n",
        "subgrade_order = sorted(df['sub_grade'].unique())\n",
        "sns.countplot(x='sub_grade',data=df,order = subgrade_order,hue='loan_status');"
      ],
      "execution_count": 24,
      "outputs": [
        {
          "output_type": "display_data",
          "data": {
            "image/png": "[encoded data removed]",
            "text/plain": [
              "<Figure size 1152x432 with 1 Axes>"
            ]
          },
          "metadata": {
            "tags": []
          }
        }
      ]
    },
    {
      "cell_type": "markdown",
      "metadata": {
        "id": "OEb38PfVWCFx"
      },
      "source": [
        "## Data Preprocessing"
      ]
    },
    {
      "cell_type": "markdown",
      "metadata": {
        "id": "dH9RwSBdWCFx"
      },
      "source": [
        "**loan_status**"
      ]
    },
    {
      "cell_type": "code",
      "metadata": {
        "colab": {
          "base_uri": "https://localhost:8080/"
        },
        "id": "-YTjWTM9WCFx",
        "outputId": "f6fd9a19-0a97-4633-e2af-6dbb89e241aa"
      },
      "source": [
        "df.loan_status.value_counts()"
      ],
      "execution_count": 25,
      "outputs": [
        {
          "output_type": "execute_result",
          "data": {
            "text/plain": [
              "Fully Paid     318357\n",
              "Charged Off     77673\n",
              "Name: loan_status, dtype: int64"
            ]
          },
          "metadata": {
            "tags": []
          },
          "execution_count": 25
        }
      ]
    },
    {
      "cell_type": "code",
      "metadata": {
        "colab": {
          "base_uri": "https://localhost:8080/"
        },
        "id": "FoVddLG5WCFy",
        "outputId": "b4d85e7b-5fbf-40ea-d882-86db2de80b86"
      },
      "source": [
        "df['loan_status'] = df['loan_status'].map({'Fully Paid':1,'Charged Off':0})\n",
        "df.loan_status.value_counts()"
      ],
      "execution_count": 26,
      "outputs": [
        {
          "output_type": "execute_result",
          "data": {
            "text/plain": [
              "1    318357\n",
              "0     77673\n",
              "Name: loan_status, dtype: int64"
            ]
          },
          "metadata": {
            "tags": []
          },
          "execution_count": 26
        }
      ]
    },
    {
      "cell_type": "markdown",
      "metadata": {
        "id": "-dUei3QAWCFy"
      },
      "source": [
        "### Handling with Missing Values"
      ]
    },
    {
      "cell_type": "code",
      "metadata": {
        "colab": {
          "base_uri": "https://localhost:8080/",
          "height": 265
        },
        "id": "BsdBTs0_dCG1",
        "outputId": "834cf8dd-9ab0-402f-eb9f-dffe0afe6a18"
      },
      "source": [
        "null_values(df)"
      ],
      "execution_count": 27,
      "outputs": [
        {
          "output_type": "stream",
          "text": [
            "Dataframe has 27 columns.\n",
            "There are 6 columns that have missing values.\n"
          ],
          "name": "stdout"
        },
        {
          "output_type": "execute_result",
          "data": {
            "text/html": [
              "<div>\n",
              "<style scoped>\n",
              "    .dataframe tbody tr th:only-of-type {\n",
              "        vertical-align: middle;\n",
              "    }\n",
              "\n",
              "    .dataframe tbody tr th {\n",
              "        vertical-align: top;\n",
              "    }\n",
              "\n",
              "    .dataframe thead th {\n",
              "        text-align: right;\n",
              "    }\n",
              "</style>\n",
              "<table border=\"1\" class=\"dataframe\">\n",
              "  <thead>\n",
              "    <tr style=\"text-align: right;\">\n",
              "      <th></th>\n",
              "      <th>Missing Values</th>\n",
              "      <th>% of Total Values</th>\n",
              "    </tr>\n",
              "  </thead>\n",
              "  <tbody>\n",
              "    <tr>\n",
              "      <th>mort_acc</th>\n",
              "      <td>37795</td>\n",
              "      <td>9.50</td>\n",
              "    </tr>\n",
              "    <tr>\n",
              "      <th>emp_title</th>\n",
              "      <td>22927</td>\n",
              "      <td>5.80</td>\n",
              "    </tr>\n",
              "    <tr>\n",
              "      <th>emp_length</th>\n",
              "      <td>18301</td>\n",
              "      <td>4.60</td>\n",
              "    </tr>\n",
              "    <tr>\n",
              "      <th>title</th>\n",
              "      <td>1755</td>\n",
              "      <td>0.40</td>\n",
              "    </tr>\n",
              "    <tr>\n",
              "      <th>pub_rec_bankruptcies</th>\n",
              "      <td>535</td>\n",
              "      <td>0.10</td>\n",
              "    </tr>\n",
              "    <tr>\n",
              "      <th>revol_util</th>\n",
              "      <td>276</td>\n",
              "      <td>0.10</td>\n",
              "    </tr>\n",
              "  </tbody>\n",
              "</table>\n",
              "</div>"
            ],
            "text/plain": [
              "                      Missing Values  % of Total Values\n",
              "mort_acc                       37795               9.50\n",
              "emp_title                      22927               5.80\n",
              "emp_length                     18301               4.60\n",
              "title                           1755               0.40\n",
              "pub_rec_bankruptcies             535               0.10\n",
              "revol_util                       276               0.10"
            ]
          },
          "metadata": {
            "tags": []
          },
          "execution_count": 27
        }
      ]
    },
    {
      "cell_type": "markdown",
      "metadata": {
        "id": "K8MtPF4XWCFy"
      },
      "source": [
        "**Emp_title(The job title supplied by the Borrower)**"
      ]
    },
    {
      "cell_type": "code",
      "metadata": {
        "colab": {
          "base_uri": "https://localhost:8080/"
        },
        "id": "xDXLqTevWCFy",
        "outputId": "1b8d44f2-ffd7-4734-84bc-808c9f449574"
      },
      "source": [
        "df.emp_title.value_counts()"
      ],
      "execution_count": 28,
      "outputs": [
        {
          "output_type": "execute_result",
          "data": {
            "text/plain": [
              "Teacher             4389\n",
              "Manager             4250\n",
              "Registered Nurse    1856\n",
              "RN                  1846\n",
              "Supervisor          1830\n",
              "                    ... \n",
              "shiping received       1\n",
              "GW hospital            1\n",
              "GBS                    1\n",
              "Equity One             1\n",
              "Craftworks             1\n",
              "Name: emp_title, Length: 173105, dtype: int64"
            ]
          },
          "metadata": {
            "tags": []
          },
          "execution_count": 28
        }
      ]
    },
    {
      "cell_type": "code",
      "metadata": {
        "colab": {
          "base_uri": "https://localhost:8080/"
        },
        "id": "fKtsVfeEdeFw",
        "outputId": "acbe42c2-7488-4e58-8885-dc3afcc4e841"
      },
      "source": [
        "df[df.emp_title.isnull()]['annual_inc'].describe()"
      ],
      "execution_count": 29,
      "outputs": [
        {
          "output_type": "execute_result",
          "data": {
            "text/plain": [
              "count     22927.00\n",
              "mean      58387.28\n",
              "std       51034.32\n",
              "min           0.00\n",
              "25%       31000.00\n",
              "50%       48000.00\n",
              "75%       70000.00\n",
              "max     2500000.00\n",
              "Name: annual_inc, dtype: float64"
            ]
          },
          "metadata": {
            "tags": []
          },
          "execution_count": 29
        }
      ]
    },
    {
      "cell_type": "code",
      "metadata": {
        "colab": {
          "base_uri": "https://localhost:8080/"
        },
        "id": "qGzesTS9doLu",
        "outputId": "c87ca7a9-a19d-46bb-92c7-070841cc44a4"
      },
      "source": [
        "df[df.emp_title.notnull()]['annual_inc'].describe()"
      ],
      "execution_count": 30,
      "outputs": [
        {
          "output_type": "execute_result",
          "data": {
            "text/plain": [
              "count    373103.00\n",
              "mean      75175.05\n",
              "std       62099.12\n",
              "min        4000.00\n",
              "25%       46000.00\n",
              "50%       65000.00\n",
              "75%       90000.00\n",
              "max     8706582.00\n",
              "Name: annual_inc, dtype: float64"
            ]
          },
          "metadata": {
            "tags": []
          },
          "execution_count": 30
        }
      ]
    },
    {
      "cell_type": "code",
      "metadata": {
        "id": "8lWlFYDrWCFz"
      },
      "source": [
        "# Since there are too many unique job titles to try to convert this to a dummy variable feature. \n",
        "# No need to handle the missing values. It is better to drop emp_title column\n",
        "df = df.drop('emp_title',axis=1)"
      ],
      "execution_count": 31,
      "outputs": []
    },
    {
      "cell_type": "markdown",
      "metadata": {
        "id": "iZrTwOshWCFz"
      },
      "source": [
        "**Emp_lenght (Employment length in years)**"
      ]
    },
    {
      "cell_type": "code",
      "metadata": {
        "colab": {
          "base_uri": "https://localhost:8080/"
        },
        "id": "jbgwX1NjWCFz",
        "outputId": "a85de9d9-a5a1-4bba-9d7f-845f31a32e30"
      },
      "source": [
        "df.emp_length.value_counts()"
      ],
      "execution_count": 32,
      "outputs": [
        {
          "output_type": "execute_result",
          "data": {
            "text/plain": [
              "10+ years    126041\n",
              "2 years       35827\n",
              "< 1 year      31725\n",
              "3 years       31665\n",
              "5 years       26495\n",
              "1 year        25882\n",
              "4 years       23952\n",
              "6 years       20841\n",
              "7 years       20819\n",
              "8 years       19168\n",
              "9 years       15314\n",
              "Name: emp_length, dtype: int64"
            ]
          },
          "metadata": {
            "tags": []
          },
          "execution_count": 32
        }
      ]
    },
    {
      "cell_type": "code",
      "metadata": {
        "id": "VlVvD-r3WCFz"
      },
      "source": [
        "df['emp_length'] = df['emp_length'].fillna(df['emp_length'].mode()[0])"
      ],
      "execution_count": 33,
      "outputs": []
    },
    {
      "cell_type": "code",
      "metadata": {
        "colab": {
          "base_uri": "https://localhost:8080/",
          "height": 395
        },
        "id": "eVORwjElWCF0",
        "outputId": "3216477e-5996-4dca-bd06-587adf59b84b"
      },
      "source": [
        "emp_co = df[df['loan_status']==0].groupby(\"emp_length\").count()['loan_status']\n",
        "emp_fp = df[df['loan_status']==1].groupby(\"emp_length\").count()['loan_status']\n",
        "emp_len = emp_co/emp_fp\n",
        "emp_len.plot(kind='bar');"
      ],
      "execution_count": 34,
      "outputs": [
        {
          "output_type": "display_data",
          "data": {
            "image/png": "[encoded data removed]",
            "text/plain": [
              "<Figure size 576x396 with 1 Axes>"
            ]
          },
          "metadata": {
            "tags": []
          }
        }
      ]
    },
    {
      "cell_type": "code",
      "metadata": {
        "id": "q3hv0uDIWCF0"
      },
      "source": [
        "# Since Charge off rates are almost similar across all employment lenghts, \n",
        "# I do not think it accounts for model variances, therefore, decide to drop\n",
        "df.drop('emp_length', axis=1, inplace=True)"
      ],
      "execution_count": 35,
      "outputs": []
    },
    {
      "cell_type": "markdown",
      "metadata": {
        "id": "hTCHS7mUWCF0"
      },
      "source": [
        "**Purpose and Title (A category provided by the borrower for the loan request)**"
      ]
    },
    {
      "cell_type": "code",
      "metadata": {
        "colab": {
          "base_uri": "https://localhost:8080/",
          "height": 198
        },
        "id": "BfK67rIjWCF0",
        "outputId": "10b9cb87-5195-424c-fe9e-f4bbbf397196"
      },
      "source": [
        "df[[\"title\", \"purpose\"]].head()"
      ],
      "execution_count": 36,
      "outputs": [
        {
          "output_type": "execute_result",
          "data": {
            "text/html": [
              "<div>\n",
              "<style scoped>\n",
              "    .dataframe tbody tr th:only-of-type {\n",
              "        vertical-align: middle;\n",
              "    }\n",
              "\n",
              "    .dataframe tbody tr th {\n",
              "        vertical-align: top;\n",
              "    }\n",
              "\n",
              "    .dataframe thead th {\n",
              "        text-align: right;\n",
              "    }\n",
              "</style>\n",
              "<table border=\"1\" class=\"dataframe\">\n",
              "  <thead>\n",
              "    <tr style=\"text-align: right;\">\n",
              "      <th></th>\n",
              "      <th>title</th>\n",
              "      <th>purpose</th>\n",
              "    </tr>\n",
              "  </thead>\n",
              "  <tbody>\n",
              "    <tr>\n",
              "      <th>0</th>\n",
              "      <td>Vacation</td>\n",
              "      <td>vacation</td>\n",
              "    </tr>\n",
              "    <tr>\n",
              "      <th>1</th>\n",
              "      <td>Debt consolidation</td>\n",
              "      <td>debt_consolidation</td>\n",
              "    </tr>\n",
              "    <tr>\n",
              "      <th>2</th>\n",
              "      <td>Credit card refinancing</td>\n",
              "      <td>credit_card</td>\n",
              "    </tr>\n",
              "    <tr>\n",
              "      <th>3</th>\n",
              "      <td>Credit card refinancing</td>\n",
              "      <td>credit_card</td>\n",
              "    </tr>\n",
              "    <tr>\n",
              "      <th>4</th>\n",
              "      <td>Credit Card Refinance</td>\n",
              "      <td>credit_card</td>\n",
              "    </tr>\n",
              "  </tbody>\n",
              "</table>\n",
              "</div>"
            ],
            "text/plain": [
              "                     title             purpose\n",
              "0                 Vacation            vacation\n",
              "1       Debt consolidation  debt_consolidation\n",
              "2  Credit card refinancing         credit_card\n",
              "3  Credit card refinancing         credit_card\n",
              "4    Credit Card Refinance         credit_card"
            ]
          },
          "metadata": {
            "tags": []
          },
          "execution_count": 36
        }
      ]
    },
    {
      "cell_type": "code",
      "metadata": {
        "colab": {
          "base_uri": "https://localhost:8080/"
        },
        "id": "zzvrAZfMjSQY",
        "outputId": "ca7521b5-e498-4052-9724-23ac9b6b5af2"
      },
      "source": [
        "df.title.value_counts()"
      ],
      "execution_count": 37,
      "outputs": [
        {
          "output_type": "execute_result",
          "data": {
            "text/plain": [
              "Debt consolidation             152472\n",
              "Credit card refinancing         51487\n",
              "Home improvement                15264\n",
              "Other                           12930\n",
              "Debt Consolidation              11608\n",
              "                                ...  \n",
              "DebtBEGONE                          1\n",
              "Loan for Interest Rate help         1\n",
              "buiness needs                       1\n",
              "Lowerpayment                        1\n",
              "Just My Luck                        1\n",
              "Name: title, Length: 48817, dtype: int64"
            ]
          },
          "metadata": {
            "tags": []
          },
          "execution_count": 37
        }
      ]
    },
    {
      "cell_type": "code",
      "metadata": {
        "colab": {
          "base_uri": "https://localhost:8080/"
        },
        "id": "6b5obOSKjW5h",
        "outputId": "a1826a93-f92b-4e10-d5a7-d883dbd3e248"
      },
      "source": [
        "df.purpose.value_counts()"
      ],
      "execution_count": 38,
      "outputs": [
        {
          "output_type": "execute_result",
          "data": {
            "text/plain": [
              "debt_consolidation    234507\n",
              "credit_card            83019\n",
              "home_improvement       24030\n",
              "other                  21185\n",
              "major_purchase          8790\n",
              "small_business          5701\n",
              "car                     4697\n",
              "medical                 4196\n",
              "moving                  2854\n",
              "vacation                2452\n",
              "house                   2201\n",
              "wedding                 1812\n",
              "renewable_energy         329\n",
              "educational              257\n",
              "Name: purpose, dtype: int64"
            ]
          },
          "metadata": {
            "tags": []
          },
          "execution_count": 38
        }
      ]
    },
    {
      "cell_type": "code",
      "metadata": {
        "id": "2KsKhh5LWCF0"
      },
      "source": [
        "# Since the title column is simply a string subcategory/description of the purpose column, \n",
        "# Go ahead and drop the title column and keep the purpose column\n",
        "df = df.drop('title',axis=1)"
      ],
      "execution_count": 39,
      "outputs": []
    },
    {
      "cell_type": "markdown",
      "metadata": {
        "id": "5_xjlEovWCF1"
      },
      "source": [
        "**mort_acc (Number of mortgage accounts)**"
      ]
    },
    {
      "cell_type": "code",
      "metadata": {
        "colab": {
          "base_uri": "https://localhost:8080/"
        },
        "id": "Mh56qCLqWCF1",
        "outputId": "b3d43c8a-9458-4bb6-b4f3-12792d1a4445"
      },
      "source": [
        "df['mort_acc'].value_counts()"
      ],
      "execution_count": 40,
      "outputs": [
        {
          "output_type": "execute_result",
          "data": {
            "text/plain": [
              "0.00     139777\n",
              "1.00      60416\n",
              "2.00      49948\n",
              "3.00      38049\n",
              "4.00      27887\n",
              "5.00      18194\n",
              "6.00      11069\n",
              "7.00       6052\n",
              "8.00       3121\n",
              "9.00       1656\n",
              "10.00       865\n",
              "11.00       479\n",
              "12.00       264\n",
              "13.00       146\n",
              "14.00       107\n",
              "15.00        61\n",
              "16.00        37\n",
              "17.00        22\n",
              "18.00        18\n",
              "19.00        15\n",
              "20.00        13\n",
              "24.00        10\n",
              "22.00         7\n",
              "21.00         4\n",
              "25.00         4\n",
              "27.00         3\n",
              "23.00         2\n",
              "32.00         2\n",
              "26.00         2\n",
              "31.00         2\n",
              "30.00         1\n",
              "28.00         1\n",
              "34.00         1\n",
              "Name: mort_acc, dtype: int64"
            ]
          },
          "metadata": {
            "tags": []
          },
          "execution_count": 40
        }
      ]
    },
    {
      "cell_type": "code",
      "metadata": {
        "id": "GLRIeJKwWCF1"
      },
      "source": [
        "def mort_acc(x):\n",
        "    if x == 0.0:\n",
        "        return 0\n",
        "    elif x >= 1.0:\n",
        "        return 1\n",
        "    else:\n",
        "        return x\n",
        "df['mort_acc'] = df.mort_acc.apply(mort_acc)"
      ],
      "execution_count": 41,
      "outputs": []
    },
    {
      "cell_type": "code",
      "metadata": {
        "colab": {
          "base_uri": "https://localhost:8080/"
        },
        "id": "aOJ5gzirWCF1",
        "outputId": "0cc39580-d814-4bf8-956b-c3c321eaf0cf"
      },
      "source": [
        "df.corr()['mort_acc'].sort_values(ascending = False)"
      ],
      "execution_count": 42,
      "outputs": [
        {
          "output_type": "execute_result",
          "data": {
            "text/plain": [
              "mort_acc                1.00\n",
              "total_acc               0.30\n",
              "loan_amnt               0.21\n",
              "annual_inc              0.20\n",
              "installment             0.18\n",
              "revol_bal               0.17\n",
              "open_acc                0.12\n",
              "loan_status             0.07\n",
              "pub_rec_bankruptcies    0.05\n",
              "pub_rec                 0.03\n",
              "revol_util              0.00\n",
              "dti                    -0.02\n",
              "int_rate               -0.09\n",
              "Name: mort_acc, dtype: float64"
            ]
          },
          "metadata": {
            "tags": []
          },
          "execution_count": 42
        }
      ]
    },
    {
      "cell_type": "code",
      "metadata": {
        "id": "Kt5S48vMWCF2"
      },
      "source": [
        "def fill_mort_acc(total_acc,mort_acc):\n",
        "    if np.isnan(mort_acc):\n",
        "        return total_acc_avg[total_acc]\n",
        "    else:\n",
        "        return mort_acc\n",
        "total_acc_avg = df.groupby('total_acc').mean()['mort_acc']\n",
        "df['mort_acc'] = df.apply(lambda x: fill_mort_acc(x['total_acc'], x['mort_acc']), axis=1)"
      ],
      "execution_count": 43,
      "outputs": []
    },
    {
      "cell_type": "code",
      "metadata": {
        "colab": {
          "base_uri": "https://localhost:8080/"
        },
        "id": "JmAdIz58_4ZX",
        "outputId": "6bd1694d-e64c-411b-eaa2-420b36d2cfcf"
      },
      "source": [
        "df['mort_acc'].value_counts()"
      ],
      "execution_count": 44,
      "outputs": [
        {
          "output_type": "execute_result",
          "data": {
            "text/plain": [
              "1.00    218458\n",
              "0.00    139779\n",
              "0.52      1437\n",
              "0.48      1427\n",
              "0.46      1424\n",
              "         ...  \n",
              "0.81         1\n",
              "0.71         1\n",
              "0.82         1\n",
              "0.82         1\n",
              "0.87         1\n",
              "Name: mort_acc, Length: 79, dtype: int64"
            ]
          },
          "metadata": {
            "tags": []
          },
          "execution_count": 44
        }
      ]
    },
    {
      "cell_type": "markdown",
      "metadata": {
        "id": "s_jzUdoGWCF2"
      },
      "source": [
        "**pub_rec**"
      ]
    },
    {
      "cell_type": "code",
      "metadata": {
        "colab": {
          "base_uri": "https://localhost:8080/"
        },
        "id": "EAgQjMcTWCF2",
        "outputId": "0306258e-6a55-43c8-8fb8-46e6b1773402"
      },
      "source": [
        "df.pub_rec.value_counts()"
      ],
      "execution_count": 45,
      "outputs": [
        {
          "output_type": "execute_result",
          "data": {
            "text/plain": [
              "0.00     338272\n",
              "1.00      49739\n",
              "2.00       5476\n",
              "3.00       1521\n",
              "4.00        527\n",
              "5.00        237\n",
              "6.00        122\n",
              "7.00         56\n",
              "8.00         34\n",
              "9.00         12\n",
              "10.00        11\n",
              "11.00         8\n",
              "13.00         4\n",
              "12.00         4\n",
              "19.00         2\n",
              "86.00         1\n",
              "40.00         1\n",
              "17.00         1\n",
              "15.00         1\n",
              "24.00         1\n",
              "Name: pub_rec, dtype: int64"
            ]
          },
          "metadata": {
            "tags": []
          },
          "execution_count": 45
        }
      ]
    },
    {
      "cell_type": "code",
      "metadata": {
        "id": "_UFzJGUhWCF2"
      },
      "source": [
        "def pub_rec(x):\n",
        "    if x == 0.0:\n",
        "        return 0\n",
        "    else:\n",
        "        return 1\n",
        "df['pub_rec'] = df.pub_rec.apply(pub_rec)"
      ],
      "execution_count": 46,
      "outputs": []
    },
    {
      "cell_type": "markdown",
      "metadata": {
        "id": "UMOH_01JWCF2"
      },
      "source": [
        "**pub_rec_bankrupties**"
      ]
    },
    {
      "cell_type": "code",
      "metadata": {
        "colab": {
          "base_uri": "https://localhost:8080/"
        },
        "id": "LVQQ-PVFWCF2",
        "outputId": "8da720da-38e6-41b2-8782-16562be048fb"
      },
      "source": [
        "df.pub_rec_bankruptcies.value_counts()"
      ],
      "execution_count": 47,
      "outputs": [
        {
          "output_type": "execute_result",
          "data": {
            "text/plain": [
              "0.00    350380\n",
              "1.00     42790\n",
              "2.00      1847\n",
              "3.00       351\n",
              "4.00        82\n",
              "5.00        32\n",
              "6.00         7\n",
              "7.00         4\n",
              "8.00         2\n",
              "Name: pub_rec_bankruptcies, dtype: int64"
            ]
          },
          "metadata": {
            "tags": []
          },
          "execution_count": 47
        }
      ]
    },
    {
      "cell_type": "code",
      "metadata": {
        "id": "UKhOxJKvWCF3"
      },
      "source": [
        "def pub_rec_bankruptcies(x):\n",
        "    if x == 0.0:\n",
        "        return 0\n",
        "    elif x >= 1.0:\n",
        "        return 1\n",
        "    else:\n",
        "        return x\n",
        "df['pub_rec_bankruptcies'] = df.pub_rec_bankruptcies.apply(pub_rec_bankruptcies)"
      ],
      "execution_count": 48,
      "outputs": []
    },
    {
      "cell_type": "code",
      "metadata": {
        "colab": {
          "base_uri": "https://localhost:8080/",
          "height": 145
        },
        "id": "4YoW6k00WCF3",
        "outputId": "5e2fe812-1fe3-4a84-f905-ad603a6568c9"
      },
      "source": [
        "null_values(df)"
      ],
      "execution_count": 49,
      "outputs": [
        {
          "output_type": "stream",
          "text": [
            "Dataframe has 24 columns.\n",
            "There are 2 columns that have missing values.\n"
          ],
          "name": "stdout"
        },
        {
          "output_type": "execute_result",
          "data": {
            "text/html": [
              "<div>\n",
              "<style scoped>\n",
              "    .dataframe tbody tr th:only-of-type {\n",
              "        vertical-align: middle;\n",
              "    }\n",
              "\n",
              "    .dataframe tbody tr th {\n",
              "        vertical-align: top;\n",
              "    }\n",
              "\n",
              "    .dataframe thead th {\n",
              "        text-align: right;\n",
              "    }\n",
              "</style>\n",
              "<table border=\"1\" class=\"dataframe\">\n",
              "  <thead>\n",
              "    <tr style=\"text-align: right;\">\n",
              "      <th></th>\n",
              "      <th>Missing Values</th>\n",
              "      <th>% of Total Values</th>\n",
              "    </tr>\n",
              "  </thead>\n",
              "  <tbody>\n",
              "    <tr>\n",
              "      <th>pub_rec_bankruptcies</th>\n",
              "      <td>535</td>\n",
              "      <td>0.10</td>\n",
              "    </tr>\n",
              "    <tr>\n",
              "      <th>revol_util</th>\n",
              "      <td>276</td>\n",
              "      <td>0.10</td>\n",
              "    </tr>\n",
              "  </tbody>\n",
              "</table>\n",
              "</div>"
            ],
            "text/plain": [
              "                      Missing Values  % of Total Values\n",
              "pub_rec_bankruptcies             535               0.10\n",
              "revol_util                       276               0.10"
            ]
          },
          "metadata": {
            "tags": []
          },
          "execution_count": 49
        }
      ]
    },
    {
      "cell_type": "code",
      "metadata": {
        "id": "uLE9IMNsWCF3"
      },
      "source": [
        "df = df.dropna()"
      ],
      "execution_count": 50,
      "outputs": []
    },
    {
      "cell_type": "code",
      "metadata": {
        "colab": {
          "base_uri": "https://localhost:8080/",
          "height": 85
        },
        "id": "xi760OEqWCF3",
        "outputId": "03464804-1f22-42e9-a270-54196b7aa035"
      },
      "source": [
        "null_values(df)"
      ],
      "execution_count": 51,
      "outputs": [
        {
          "output_type": "stream",
          "text": [
            "Dataframe has 24 columns.\n",
            "There are 0 columns that have missing values.\n"
          ],
          "name": "stdout"
        },
        {
          "output_type": "execute_result",
          "data": {
            "text/html": [
              "<div>\n",
              "<style scoped>\n",
              "    .dataframe tbody tr th:only-of-type {\n",
              "        vertical-align: middle;\n",
              "    }\n",
              "\n",
              "    .dataframe tbody tr th {\n",
              "        vertical-align: top;\n",
              "    }\n",
              "\n",
              "    .dataframe thead th {\n",
              "        text-align: right;\n",
              "    }\n",
              "</style>\n",
              "<table border=\"1\" class=\"dataframe\">\n",
              "  <thead>\n",
              "    <tr style=\"text-align: right;\">\n",
              "      <th></th>\n",
              "      <th>Missing Values</th>\n",
              "      <th>% of Total Values</th>\n",
              "    </tr>\n",
              "  </thead>\n",
              "  <tbody>\n",
              "  </tbody>\n",
              "</table>\n",
              "</div>"
            ],
            "text/plain": [
              "Empty DataFrame\n",
              "Columns: [Missing Values, % of Total Values]\n",
              "Index: []"
            ]
          },
          "metadata": {
            "tags": []
          },
          "execution_count": 51
        }
      ]
    },
    {
      "cell_type": "code",
      "metadata": {
        "colab": {
          "base_uri": "https://localhost:8080/"
        },
        "id": "AO-Vcw8_WCF3",
        "outputId": "71e77094-b8b6-43d9-dc69-682f294c7005"
      },
      "source": [
        "df.shape"
      ],
      "execution_count": 52,
      "outputs": [
        {
          "output_type": "execute_result",
          "data": {
            "text/plain": [
              "(395219, 24)"
            ]
          },
          "metadata": {
            "tags": []
          },
          "execution_count": 52
        }
      ]
    },
    {
      "cell_type": "markdown",
      "metadata": {
        "id": "V3_EVyWDWCF4"
      },
      "source": [
        "## Handling with Categorical Variables"
      ]
    },
    {
      "cell_type": "code",
      "metadata": {
        "colab": {
          "base_uri": "https://localhost:8080/"
        },
        "id": "vy-49KYmnFYk",
        "outputId": "ddec861f-7618-4058-a711-39b9b3f47813"
      },
      "source": [
        "df.select_dtypes(['object']).columns"
      ],
      "execution_count": 53,
      "outputs": [
        {
          "output_type": "execute_result",
          "data": {
            "text/plain": [
              "Index(['term', 'grade', 'sub_grade', 'home_ownership', 'verification_status',\n",
              "       'issue_d', 'purpose', 'earliest_cr_line', 'initial_list_status',\n",
              "       'application_type', 'address'],\n",
              "      dtype='object')"
            ]
          },
          "metadata": {
            "tags": []
          },
          "execution_count": 53
        }
      ]
    },
    {
      "cell_type": "markdown",
      "metadata": {
        "id": "UXHOfaRTWCF4"
      },
      "source": [
        "**term**"
      ]
    },
    {
      "cell_type": "code",
      "metadata": {
        "colab": {
          "base_uri": "https://localhost:8080/"
        },
        "id": "o9M-ro8vWCF4",
        "outputId": "d8472ebe-9b58-48b6-da91-b233b9461182"
      },
      "source": [
        "df.term.value_counts()"
      ],
      "execution_count": 54,
      "outputs": [
        {
          "output_type": "execute_result",
          "data": {
            "text/plain": [
              " 36 months    301247\n",
              " 60 months     93972\n",
              "Name: term, dtype: int64"
            ]
          },
          "metadata": {
            "tags": []
          },
          "execution_count": 54
        }
      ]
    },
    {
      "cell_type": "code",
      "metadata": {
        "id": "CdhyU6IHWCF4"
      },
      "source": [
        "term_dict = {' 36 months': 36, ' 60 months': 60}\n",
        "df['term'] = df.term.map(term_dict)"
      ],
      "execution_count": 55,
      "outputs": []
    },
    {
      "cell_type": "code",
      "metadata": {
        "colab": {
          "base_uri": "https://localhost:8080/"
        },
        "id": "VnLGYkhonhsH",
        "outputId": "4b7fd0ae-03c8-441d-af32-9530e16517c1"
      },
      "source": [
        "df.term.value_counts()"
      ],
      "execution_count": 56,
      "outputs": [
        {
          "output_type": "execute_result",
          "data": {
            "text/plain": [
              "36    301247\n",
              "60     93972\n",
              "Name: term, dtype: int64"
            ]
          },
          "metadata": {
            "tags": []
          },
          "execution_count": 56
        }
      ]
    },
    {
      "cell_type": "markdown",
      "metadata": {
        "id": "0wfzPR8aWCF4"
      },
      "source": [
        "**grade and subgrade**"
      ]
    },
    {
      "cell_type": "code",
      "metadata": {
        "colab": {
          "base_uri": "https://localhost:8080/",
          "height": 348
        },
        "id": "w_2owwLgWCF4",
        "outputId": "2b1210b2-a091-4715-86ba-ad2dfb90d6e7"
      },
      "source": [
        "df[[\"grade\", \"sub_grade\"]].head(10)"
      ],
      "execution_count": 57,
      "outputs": [
        {
          "output_type": "execute_result",
          "data": {
            "text/html": [
              "<div>\n",
              "<style scoped>\n",
              "    .dataframe tbody tr th:only-of-type {\n",
              "        vertical-align: middle;\n",
              "    }\n",
              "\n",
              "    .dataframe tbody tr th {\n",
              "        vertical-align: top;\n",
              "    }\n",
              "\n",
              "    .dataframe thead th {\n",
              "        text-align: right;\n",
              "    }\n",
              "</style>\n",
              "<table border=\"1\" class=\"dataframe\">\n",
              "  <thead>\n",
              "    <tr style=\"text-align: right;\">\n",
              "      <th></th>\n",
              "      <th>grade</th>\n",
              "      <th>sub_grade</th>\n",
              "    </tr>\n",
              "  </thead>\n",
              "  <tbody>\n",
              "    <tr>\n",
              "      <th>0</th>\n",
              "      <td>B</td>\n",
              "      <td>B4</td>\n",
              "    </tr>\n",
              "    <tr>\n",
              "      <th>1</th>\n",
              "      <td>B</td>\n",
              "      <td>B5</td>\n",
              "    </tr>\n",
              "    <tr>\n",
              "      <th>2</th>\n",
              "      <td>B</td>\n",
              "      <td>B3</td>\n",
              "    </tr>\n",
              "    <tr>\n",
              "      <th>3</th>\n",
              "      <td>A</td>\n",
              "      <td>A2</td>\n",
              "    </tr>\n",
              "    <tr>\n",
              "      <th>4</th>\n",
              "      <td>C</td>\n",
              "      <td>C5</td>\n",
              "    </tr>\n",
              "    <tr>\n",
              "      <th>5</th>\n",
              "      <td>C</td>\n",
              "      <td>C3</td>\n",
              "    </tr>\n",
              "    <tr>\n",
              "      <th>6</th>\n",
              "      <td>A</td>\n",
              "      <td>A1</td>\n",
              "    </tr>\n",
              "    <tr>\n",
              "      <th>7</th>\n",
              "      <td>B</td>\n",
              "      <td>B2</td>\n",
              "    </tr>\n",
              "    <tr>\n",
              "      <th>8</th>\n",
              "      <td>B</td>\n",
              "      <td>B3</td>\n",
              "    </tr>\n",
              "    <tr>\n",
              "      <th>9</th>\n",
              "      <td>C</td>\n",
              "      <td>C5</td>\n",
              "    </tr>\n",
              "  </tbody>\n",
              "</table>\n",
              "</div>"
            ],
            "text/plain": [
              "  grade sub_grade\n",
              "0     B        B4\n",
              "1     B        B5\n",
              "2     B        B3\n",
              "3     A        A2\n",
              "4     C        C5\n",
              "5     C        C3\n",
              "6     A        A1\n",
              "7     B        B2\n",
              "8     B        B3\n",
              "9     C        C5"
            ]
          },
          "metadata": {
            "tags": []
          },
          "execution_count": 57
        }
      ]
    },
    {
      "cell_type": "code",
      "metadata": {
        "id": "RfubydiNWCF5"
      },
      "source": [
        "df = df.drop('grade',axis=1)"
      ],
      "execution_count": 58,
      "outputs": []
    },
    {
      "cell_type": "markdown",
      "metadata": {
        "id": "SJaHEMqxWCF5"
      },
      "source": [
        "**home_ownership**"
      ]
    },
    {
      "cell_type": "code",
      "metadata": {
        "colab": {
          "base_uri": "https://localhost:8080/"
        },
        "id": "xRjDOXrBWCF5",
        "outputId": "08f42518-38d5-48be-c6a8-e47e64225811"
      },
      "source": [
        "df.home_ownership.value_counts()"
      ],
      "execution_count": 59,
      "outputs": [
        {
          "output_type": "execute_result",
          "data": {
            "text/plain": [
              "MORTGAGE    198022\n",
              "RENT        159395\n",
              "OWN          37660\n",
              "OTHER          110\n",
              "NONE            29\n",
              "ANY              3\n",
              "Name: home_ownership, dtype: int64"
            ]
          },
          "metadata": {
            "tags": []
          },
          "execution_count": 59
        }
      ]
    },
    {
      "cell_type": "code",
      "metadata": {
        "colab": {
          "base_uri": "https://localhost:8080/"
        },
        "id": "XsIn3Q1EWCF5",
        "outputId": "e8f75236-60ca-42a7-fe33-563db59e7345"
      },
      "source": [
        "df.loc[(df.home_ownership == 'ANY') | (df.home_ownership == 'NONE'), 'home_ownership'] = 'OTHER'  \n",
        "df.home_ownership.value_counts()"
      ],
      "execution_count": 60,
      "outputs": [
        {
          "output_type": "execute_result",
          "data": {
            "text/plain": [
              "MORTGAGE    198022\n",
              "RENT        159395\n",
              "OWN          37660\n",
              "OTHER          142\n",
              "Name: home_ownership, dtype: int64"
            ]
          },
          "metadata": {
            "tags": []
          },
          "execution_count": 60
        }
      ]
    },
    {
      "cell_type": "markdown",
      "metadata": {
        "id": "_EcjcJm7WCF5"
      },
      "source": [
        "**verification_status**"
      ]
    },
    {
      "cell_type": "code",
      "metadata": {
        "colab": {
          "base_uri": "https://localhost:8080/"
        },
        "id": "siwBDn27WCF5",
        "outputId": "e657f6f3-084f-42f3-c6cf-78524348091e"
      },
      "source": [
        "df.verification_status.value_counts()"
      ],
      "execution_count": 61,
      "outputs": [
        {
          "output_type": "execute_result",
          "data": {
            "text/plain": [
              "Verified           139451\n",
              "Source Verified    131301\n",
              "Not Verified       124467\n",
              "Name: verification_status, dtype: int64"
            ]
          },
          "metadata": {
            "tags": []
          },
          "execution_count": 61
        }
      ]
    },
    {
      "cell_type": "markdown",
      "metadata": {
        "id": "pVC4eXzZWCF6"
      },
      "source": [
        "**issue_d**"
      ]
    },
    {
      "cell_type": "code",
      "metadata": {
        "colab": {
          "base_uri": "https://localhost:8080/"
        },
        "id": "9duEB-QtWCF6",
        "outputId": "952f31ef-9d71-4a7e-9422-b85e93b397a5"
      },
      "source": [
        "df.issue_d.value_counts()"
      ],
      "execution_count": 62,
      "outputs": [
        {
          "output_type": "execute_result",
          "data": {
            "text/plain": [
              "Oct-2014    14838\n",
              "Jul-2014    12597\n",
              "Jan-2015    11701\n",
              "Dec-2013    10609\n",
              "Nov-2013    10492\n",
              "            ...  \n",
              "Jan-2008        3\n",
              "Dec-2007        2\n",
              "Oct-2007        1\n",
              "Aug-2007        1\n",
              "Nov-2007        1\n",
              "Name: issue_d, Length: 112, dtype: int64"
            ]
          },
          "metadata": {
            "tags": []
          },
          "execution_count": 62
        }
      ]
    },
    {
      "cell_type": "code",
      "metadata": {
        "id": "G7Vx2W1wWCF6"
      },
      "source": [
        "df = df.drop('issue_d',axis=1)"
      ],
      "execution_count": 63,
      "outputs": []
    },
    {
      "cell_type": "markdown",
      "metadata": {
        "id": "Hyeoejp-WCF6"
      },
      "source": [
        "**purpose**"
      ]
    },
    {
      "cell_type": "code",
      "metadata": {
        "colab": {
          "base_uri": "https://localhost:8080/"
        },
        "id": "7DZ2-KcvWCF6",
        "outputId": "926eb503-9354-4373-854d-aa66da3e3c5f"
      },
      "source": [
        "df.purpose.value_counts()"
      ],
      "execution_count": 64,
      "outputs": [
        {
          "output_type": "execute_result",
          "data": {
            "text/plain": [
              "debt_consolidation    234169\n",
              "credit_card            82923\n",
              "home_improvement       23961\n",
              "other                  21059\n",
              "major_purchase          8756\n",
              "small_business          5656\n",
              "car                     4670\n",
              "medical                 4175\n",
              "moving                  2842\n",
              "vacation                2442\n",
              "house                   2197\n",
              "wedding                 1794\n",
              "renewable_energy         329\n",
              "educational              246\n",
              "Name: purpose, dtype: int64"
            ]
          },
          "metadata": {
            "tags": []
          },
          "execution_count": 64
        }
      ]
    },
    {
      "cell_type": "markdown",
      "metadata": {
        "id": "z6Gq7ujDWCF6"
      },
      "source": [
        "**earliest_cr_line**"
      ]
    },
    {
      "cell_type": "code",
      "metadata": {
        "colab": {
          "base_uri": "https://localhost:8080/"
        },
        "id": "uaCLajZ7WCF6",
        "outputId": "b066d186-58eb-4119-cf0e-735377c978a5"
      },
      "source": [
        "df.earliest_cr_line.value_counts()"
      ],
      "execution_count": 65,
      "outputs": [
        {
          "output_type": "execute_result",
          "data": {
            "text/plain": [
              "Oct-2000    3013\n",
              "Aug-2000    2930\n",
              "Oct-2001    2890\n",
              "Aug-2001    2879\n",
              "Nov-2000    2729\n",
              "            ... \n",
              "Jun-1959       1\n",
              "Aug-1964       1\n",
              "Nov-1959       1\n",
              "Aug-1960       1\n",
              "Jan-1957       1\n",
              "Name: earliest_cr_line, Length: 684, dtype: int64"
            ]
          },
          "metadata": {
            "tags": []
          },
          "execution_count": 65
        }
      ]
    },
    {
      "cell_type": "code",
      "metadata": {
        "id": "3U5ms0leWCF7"
      },
      "source": [
        "df['earliest_cr_line'] = df.earliest_cr_line.str.split('-', expand=True)[1]"
      ],
      "execution_count": 66,
      "outputs": []
    },
    {
      "cell_type": "code",
      "metadata": {
        "colab": {
          "base_uri": "https://localhost:8080/"
        },
        "id": "hh2cDwBcWCF7",
        "outputId": "4bd16945-d944-4530-b008-6335758adbf5"
      },
      "source": [
        "df.earliest_cr_line"
      ],
      "execution_count": 67,
      "outputs": [
        {
          "output_type": "execute_result",
          "data": {
            "text/plain": [
              "0         1990\n",
              "1         2004\n",
              "2         2007\n",
              "3         2006\n",
              "4         1999\n",
              "          ... \n",
              "396025    2004\n",
              "396026    2006\n",
              "396027    1997\n",
              "396028    1990\n",
              "396029    1998\n",
              "Name: earliest_cr_line, Length: 395219, dtype: object"
            ]
          },
          "metadata": {
            "tags": []
          },
          "execution_count": 67
        }
      ]
    },
    {
      "cell_type": "code",
      "metadata": {
        "colab": {
          "base_uri": "https://localhost:8080/"
        },
        "id": "vJGv4b9qWCF7",
        "outputId": "dee12cc1-75c6-432c-a76c-4dd405087095"
      },
      "source": [
        "df.earliest_cr_line.nunique()"
      ],
      "execution_count": 68,
      "outputs": [
        {
          "output_type": "execute_result",
          "data": {
            "text/plain": [
              "65"
            ]
          },
          "metadata": {
            "tags": []
          },
          "execution_count": 68
        }
      ]
    },
    {
      "cell_type": "markdown",
      "metadata": {
        "id": "NBSoI54LWCF7"
      },
      "source": [
        "**initial_list_status**"
      ]
    },
    {
      "cell_type": "code",
      "metadata": {
        "colab": {
          "base_uri": "https://localhost:8080/"
        },
        "id": "SosG00DAWCF7",
        "outputId": "f38a9ec3-4210-49de-e50e-57d17845cae2"
      },
      "source": [
        "df.initial_list_status.value_counts()"
      ],
      "execution_count": 69,
      "outputs": [
        {
          "output_type": "execute_result",
          "data": {
            "text/plain": [
              "f    237346\n",
              "w    157873\n",
              "Name: initial_list_status, dtype: int64"
            ]
          },
          "metadata": {
            "tags": []
          },
          "execution_count": 69
        }
      ]
    },
    {
      "cell_type": "markdown",
      "metadata": {
        "id": "CWk3mpfyWCF7"
      },
      "source": [
        "**application_type**"
      ]
    },
    {
      "cell_type": "code",
      "metadata": {
        "colab": {
          "base_uri": "https://localhost:8080/"
        },
        "id": "qogDHwHUWCF8",
        "outputId": "5438027e-5f6d-4f20-d651-d3609c4dcc4e"
      },
      "source": [
        "df.application_type.value_counts()"
      ],
      "execution_count": 70,
      "outputs": [
        {
          "output_type": "execute_result",
          "data": {
            "text/plain": [
              "INDIVIDUAL    394508\n",
              "JOINT            425\n",
              "DIRECT_PAY       286\n",
              "Name: application_type, dtype: int64"
            ]
          },
          "metadata": {
            "tags": []
          },
          "execution_count": 70
        }
      ]
    },
    {
      "cell_type": "markdown",
      "metadata": {
        "id": "eG8fZ9HzWCF8"
      },
      "source": [
        "**adress**"
      ]
    },
    {
      "cell_type": "code",
      "metadata": {
        "colab": {
          "base_uri": "https://localhost:8080/"
        },
        "id": "BfczbL6lWCF8",
        "outputId": "e2075e34-f2c0-4007-8ade-a7073690aff1"
      },
      "source": [
        "df.address.head()"
      ],
      "execution_count": 71,
      "outputs": [
        {
          "output_type": "execute_result",
          "data": {
            "text/plain": [
              "0       0174 Michelle Gateway\\nMendozaberg, OK 22690\n",
              "1    1076 Carney Fort Apt. 347\\nLoganmouth, SD 05113\n",
              "2    87025 Mark Dale Apt. 269\\nNew Sabrina, WV 05113\n",
              "3              823 Reid Ford\\nDelacruzside, MA 00813\n",
              "4               679 Luna Roads\\nGreggshire, VA 11650\n",
              "Name: address, dtype: object"
            ]
          },
          "metadata": {
            "tags": []
          },
          "execution_count": 71
        }
      ]
    },
    {
      "cell_type": "code",
      "metadata": {
        "colab": {
          "base_uri": "https://localhost:8080/"
        },
        "id": "vjGvOBlaWCF8",
        "outputId": "7d69bf44-f43f-4eca-8600-39c5b8b1e1c0"
      },
      "source": [
        "df['zip_code'] = df.address.apply(lambda x: x[-5:])\n",
        "df.zip_code.value_counts()"
      ],
      "execution_count": 72,
      "outputs": [
        {
          "output_type": "execute_result",
          "data": {
            "text/plain": [
              "70466    56880\n",
              "22690    56413\n",
              "30723    56402\n",
              "48052    55811\n",
              "00813    45725\n",
              "29597    45393\n",
              "05113    45300\n",
              "11650    11210\n",
              "93700    11126\n",
              "86630    10959\n",
              "Name: zip_code, dtype: int64"
            ]
          },
          "metadata": {
            "tags": []
          },
          "execution_count": 72
        }
      ]
    },
    {
      "cell_type": "code",
      "metadata": {
        "id": "MD3qV984WCF8"
      },
      "source": [
        "df = df.drop('address',axis=1)"
      ],
      "execution_count": 73,
      "outputs": []
    },
    {
      "cell_type": "code",
      "metadata": {
        "id": "Rr0wQnAQWCF8"
      },
      "source": [
        "dummies = ['sub_grade', 'verification_status', 'purpose', 'initial_list_status', 'application_type', 'home_ownership', 'zip_code']\n",
        "df = pd.get_dummies(df, columns=dummies, drop_first=True)"
      ],
      "execution_count": 74,
      "outputs": []
    },
    {
      "cell_type": "code",
      "metadata": {
        "scrolled": true,
        "colab": {
          "base_uri": "https://localhost:8080/",
          "height": 247
        },
        "id": "gduDncG3WCF9",
        "outputId": "4860799a-4d7f-434d-ab60-4657b249cefc"
      },
      "source": [
        "df.head()"
      ],
      "execution_count": 75,
      "outputs": [
        {
          "output_type": "execute_result",
          "data": {
            "text/html": [
              "<div>\n",
              "<style scoped>\n",
              "    .dataframe tbody tr th:only-of-type {\n",
              "        vertical-align: middle;\n",
              "    }\n",
              "\n",
              "    .dataframe tbody tr th {\n",
              "        vertical-align: top;\n",
              "    }\n",
              "\n",
              "    .dataframe thead th {\n",
              "        text-align: right;\n",
              "    }\n",
              "</style>\n",
              "<table border=\"1\" class=\"dataframe\">\n",
              "  <thead>\n",
              "    <tr style=\"text-align: right;\">\n",
              "      <th></th>\n",
              "      <th>loan_amnt</th>\n",
              "      <th>term</th>\n",
              "      <th>int_rate</th>\n",
              "      <th>installment</th>\n",
              "      <th>annual_inc</th>\n",
              "      <th>loan_status</th>\n",
              "      <th>dti</th>\n",
              "      <th>earliest_cr_line</th>\n",
              "      <th>open_acc</th>\n",
              "      <th>pub_rec</th>\n",
              "      <th>revol_bal</th>\n",
              "      <th>revol_util</th>\n",
              "      <th>total_acc</th>\n",
              "      <th>mort_acc</th>\n",
              "      <th>pub_rec_bankruptcies</th>\n",
              "      <th>sub_grade_A2</th>\n",
              "      <th>sub_grade_A3</th>\n",
              "      <th>sub_grade_A4</th>\n",
              "      <th>sub_grade_A5</th>\n",
              "      <th>sub_grade_B1</th>\n",
              "      <th>sub_grade_B2</th>\n",
              "      <th>sub_grade_B3</th>\n",
              "      <th>sub_grade_B4</th>\n",
              "      <th>sub_grade_B5</th>\n",
              "      <th>sub_grade_C1</th>\n",
              "      <th>...</th>\n",
              "      <th>purpose_home_improvement</th>\n",
              "      <th>purpose_house</th>\n",
              "      <th>purpose_major_purchase</th>\n",
              "      <th>purpose_medical</th>\n",
              "      <th>purpose_moving</th>\n",
              "      <th>purpose_other</th>\n",
              "      <th>purpose_renewable_energy</th>\n",
              "      <th>purpose_small_business</th>\n",
              "      <th>purpose_vacation</th>\n",
              "      <th>purpose_wedding</th>\n",
              "      <th>initial_list_status_w</th>\n",
              "      <th>application_type_INDIVIDUAL</th>\n",
              "      <th>application_type_JOINT</th>\n",
              "      <th>home_ownership_OTHER</th>\n",
              "      <th>home_ownership_OWN</th>\n",
              "      <th>home_ownership_RENT</th>\n",
              "      <th>zip_code_05113</th>\n",
              "      <th>zip_code_11650</th>\n",
              "      <th>zip_code_22690</th>\n",
              "      <th>zip_code_29597</th>\n",
              "      <th>zip_code_30723</th>\n",
              "      <th>zip_code_48052</th>\n",
              "      <th>zip_code_70466</th>\n",
              "      <th>zip_code_86630</th>\n",
              "      <th>zip_code_93700</th>\n",
              "    </tr>\n",
              "  </thead>\n",
              "  <tbody>\n",
              "    <tr>\n",
              "      <th>0</th>\n",
              "      <td>10000.00</td>\n",
              "      <td>36</td>\n",
              "      <td>11.44</td>\n",
              "      <td>329.48</td>\n",
              "      <td>117000.00</td>\n",
              "      <td>1</td>\n",
              "      <td>26.24</td>\n",
              "      <td>1990</td>\n",
              "      <td>16.00</td>\n",
              "      <td>0</td>\n",
              "      <td>36369.00</td>\n",
              "      <td>41.80</td>\n",
              "      <td>25.00</td>\n",
              "      <td>0.00</td>\n",
              "      <td>0.00</td>\n",
              "      <td>0</td>\n",
              "      <td>0</td>\n",
              "      <td>0</td>\n",
              "      <td>0</td>\n",
              "      <td>0</td>\n",
              "      <td>0</td>\n",
              "      <td>0</td>\n",
              "      <td>1</td>\n",
              "      <td>0</td>\n",
              "      <td>0</td>\n",
              "      <td>...</td>\n",
              "      <td>0</td>\n",
              "      <td>0</td>\n",
              "      <td>0</td>\n",
              "      <td>0</td>\n",
              "      <td>0</td>\n",
              "      <td>0</td>\n",
              "      <td>0</td>\n",
              "      <td>0</td>\n",
              "      <td>1</td>\n",
              "      <td>0</td>\n",
              "      <td>1</td>\n",
              "      <td>1</td>\n",
              "      <td>0</td>\n",
              "      <td>0</td>\n",
              "      <td>0</td>\n",
              "      <td>1</td>\n",
              "      <td>0</td>\n",
              "      <td>0</td>\n",
              "      <td>1</td>\n",
              "      <td>0</td>\n",
              "      <td>0</td>\n",
              "      <td>0</td>\n",
              "      <td>0</td>\n",
              "      <td>0</td>\n",
              "      <td>0</td>\n",
              "    </tr>\n",
              "    <tr>\n",
              "      <th>1</th>\n",
              "      <td>8000.00</td>\n",
              "      <td>36</td>\n",
              "      <td>11.99</td>\n",
              "      <td>265.68</td>\n",
              "      <td>65000.00</td>\n",
              "      <td>1</td>\n",
              "      <td>22.05</td>\n",
              "      <td>2004</td>\n",
              "      <td>17.00</td>\n",
              "      <td>0</td>\n",
              "      <td>20131.00</td>\n",
              "      <td>53.30</td>\n",
              "      <td>27.00</td>\n",
              "      <td>1.00</td>\n",
              "      <td>0.00</td>\n",
              "      <td>0</td>\n",
              "      <td>0</td>\n",
              "      <td>0</td>\n",
              "      <td>0</td>\n",
              "      <td>0</td>\n",
              "      <td>0</td>\n",
              "      <td>0</td>\n",
              "      <td>0</td>\n",
              "      <td>1</td>\n",
              "      <td>0</td>\n",
              "      <td>...</td>\n",
              "      <td>0</td>\n",
              "      <td>0</td>\n",
              "      <td>0</td>\n",
              "      <td>0</td>\n",
              "      <td>0</td>\n",
              "      <td>0</td>\n",
              "      <td>0</td>\n",
              "      <td>0</td>\n",
              "      <td>0</td>\n",
              "      <td>0</td>\n",
              "      <td>0</td>\n",
              "      <td>1</td>\n",
              "      <td>0</td>\n",
              "      <td>0</td>\n",
              "      <td>0</td>\n",
              "      <td>0</td>\n",
              "      <td>1</td>\n",
              "      <td>0</td>\n",
              "      <td>0</td>\n",
              "      <td>0</td>\n",
              "      <td>0</td>\n",
              "      <td>0</td>\n",
              "      <td>0</td>\n",
              "      <td>0</td>\n",
              "      <td>0</td>\n",
              "    </tr>\n",
              "    <tr>\n",
              "      <th>2</th>\n",
              "      <td>15600.00</td>\n",
              "      <td>36</td>\n",
              "      <td>10.49</td>\n",
              "      <td>506.97</td>\n",
              "      <td>43057.00</td>\n",
              "      <td>1</td>\n",
              "      <td>12.79</td>\n",
              "      <td>2007</td>\n",
              "      <td>13.00</td>\n",
              "      <td>0</td>\n",
              "      <td>11987.00</td>\n",
              "      <td>92.20</td>\n",
              "      <td>26.00</td>\n",
              "      <td>0.00</td>\n",
              "      <td>0.00</td>\n",
              "      <td>0</td>\n",
              "      <td>0</td>\n",
              "      <td>0</td>\n",
              "      <td>0</td>\n",
              "      <td>0</td>\n",
              "      <td>0</td>\n",
              "      <td>1</td>\n",
              "      <td>0</td>\n",
              "      <td>0</td>\n",
              "      <td>0</td>\n",
              "      <td>...</td>\n",
              "      <td>0</td>\n",
              "      <td>0</td>\n",
              "      <td>0</td>\n",
              "      <td>0</td>\n",
              "      <td>0</td>\n",
              "      <td>0</td>\n",
              "      <td>0</td>\n",
              "      <td>0</td>\n",
              "      <td>0</td>\n",
              "      <td>0</td>\n",
              "      <td>0</td>\n",
              "      <td>1</td>\n",
              "      <td>0</td>\n",
              "      <td>0</td>\n",
              "      <td>0</td>\n",
              "      <td>1</td>\n",
              "      <td>1</td>\n",
              "      <td>0</td>\n",
              "      <td>0</td>\n",
              "      <td>0</td>\n",
              "      <td>0</td>\n",
              "      <td>0</td>\n",
              "      <td>0</td>\n",
              "      <td>0</td>\n",
              "      <td>0</td>\n",
              "    </tr>\n",
              "    <tr>\n",
              "      <th>3</th>\n",
              "      <td>7200.00</td>\n",
              "      <td>36</td>\n",
              "      <td>6.49</td>\n",
              "      <td>220.65</td>\n",
              "      <td>54000.00</td>\n",
              "      <td>1</td>\n",
              "      <td>2.60</td>\n",
              "      <td>2006</td>\n",
              "      <td>6.00</td>\n",
              "      <td>0</td>\n",
              "      <td>5472.00</td>\n",
              "      <td>21.50</td>\n",
              "      <td>13.00</td>\n",
              "      <td>0.00</td>\n",
              "      <td>0.00</td>\n",
              "      <td>1</td>\n",
              "      <td>0</td>\n",
              "      <td>0</td>\n",
              "      <td>0</td>\n",
              "      <td>0</td>\n",
              "      <td>0</td>\n",
              "      <td>0</td>\n",
              "      <td>0</td>\n",
              "      <td>0</td>\n",
              "      <td>0</td>\n",
              "      <td>...</td>\n",
              "      <td>0</td>\n",
              "      <td>0</td>\n",
              "      <td>0</td>\n",
              "      <td>0</td>\n",
              "      <td>0</td>\n",
              "      <td>0</td>\n",
              "      <td>0</td>\n",
              "      <td>0</td>\n",
              "      <td>0</td>\n",
              "      <td>0</td>\n",
              "      <td>0</td>\n",
              "      <td>1</td>\n",
              "      <td>0</td>\n",
              "      <td>0</td>\n",
              "      <td>0</td>\n",
              "      <td>1</td>\n",
              "      <td>0</td>\n",
              "      <td>0</td>\n",
              "      <td>0</td>\n",
              "      <td>0</td>\n",
              "      <td>0</td>\n",
              "      <td>0</td>\n",
              "      <td>0</td>\n",
              "      <td>0</td>\n",
              "      <td>0</td>\n",
              "    </tr>\n",
              "    <tr>\n",
              "      <th>4</th>\n",
              "      <td>24375.00</td>\n",
              "      <td>60</td>\n",
              "      <td>17.27</td>\n",
              "      <td>609.33</td>\n",
              "      <td>55000.00</td>\n",
              "      <td>0</td>\n",
              "      <td>33.95</td>\n",
              "      <td>1999</td>\n",
              "      <td>13.00</td>\n",
              "      <td>0</td>\n",
              "      <td>24584.00</td>\n",
              "      <td>69.80</td>\n",
              "      <td>43.00</td>\n",
              "      <td>1.00</td>\n",
              "      <td>0.00</td>\n",
              "      <td>0</td>\n",
              "      <td>0</td>\n",
              "      <td>0</td>\n",
              "      <td>0</td>\n",
              "      <td>0</td>\n",
              "      <td>0</td>\n",
              "      <td>0</td>\n",
              "      <td>0</td>\n",
              "      <td>0</td>\n",
              "      <td>0</td>\n",
              "      <td>...</td>\n",
              "      <td>0</td>\n",
              "      <td>0</td>\n",
              "      <td>0</td>\n",
              "      <td>0</td>\n",
              "      <td>0</td>\n",
              "      <td>0</td>\n",
              "      <td>0</td>\n",
              "      <td>0</td>\n",
              "      <td>0</td>\n",
              "      <td>0</td>\n",
              "      <td>0</td>\n",
              "      <td>1</td>\n",
              "      <td>0</td>\n",
              "      <td>0</td>\n",
              "      <td>0</td>\n",
              "      <td>0</td>\n",
              "      <td>0</td>\n",
              "      <td>1</td>\n",
              "      <td>0</td>\n",
              "      <td>0</td>\n",
              "      <td>0</td>\n",
              "      <td>0</td>\n",
              "      <td>0</td>\n",
              "      <td>0</td>\n",
              "      <td>0</td>\n",
              "    </tr>\n",
              "  </tbody>\n",
              "</table>\n",
              "<p>5 rows × 79 columns</p>\n",
              "</div>"
            ],
            "text/plain": [
              "   loan_amnt  term  int_rate  installment  annual_inc  loan_status   dti  \\\n",
              "0   10000.00    36     11.44       329.48   117000.00            1 26.24   \n",
              "1    8000.00    36     11.99       265.68    65000.00            1 22.05   \n",
              "2   15600.00    36     10.49       506.97    43057.00            1 12.79   \n",
              "3    7200.00    36      6.49       220.65    54000.00            1  2.60   \n",
              "4   24375.00    60     17.27       609.33    55000.00            0 33.95   \n",
              "\n",
              "  earliest_cr_line  open_acc  pub_rec  revol_bal  revol_util  total_acc  \\\n",
              "0             1990     16.00        0   36369.00       41.80      25.00   \n",
              "1             2004     17.00        0   20131.00       53.30      27.00   \n",
              "2             2007     13.00        0   11987.00       92.20      26.00   \n",
              "3             2006      6.00        0    5472.00       21.50      13.00   \n",
              "4             1999     13.00        0   24584.00       69.80      43.00   \n",
              "\n",
              "   mort_acc  pub_rec_bankruptcies  sub_grade_A2  sub_grade_A3  sub_grade_A4  \\\n",
              "0      0.00                  0.00             0             0             0   \n",
              "1      1.00                  0.00             0             0             0   \n",
              "2      0.00                  0.00             0             0             0   \n",
              "3      0.00                  0.00             1             0             0   \n",
              "4      1.00                  0.00             0             0             0   \n",
              "\n",
              "   sub_grade_A5  sub_grade_B1  sub_grade_B2  sub_grade_B3  sub_grade_B4  \\\n",
              "0             0             0             0             0             1   \n",
              "1             0             0             0             0             0   \n",
              "2             0             0             0             1             0   \n",
              "3             0             0             0             0             0   \n",
              "4             0             0             0             0             0   \n",
              "\n",
              "   sub_grade_B5  sub_grade_C1  ...  purpose_home_improvement  purpose_house  \\\n",
              "0             0             0  ...                         0              0   \n",
              "1             1             0  ...                         0              0   \n",
              "2             0             0  ...                         0              0   \n",
              "3             0             0  ...                         0              0   \n",
              "4             0             0  ...                         0              0   \n",
              "\n",
              "   purpose_major_purchase  purpose_medical  purpose_moving  purpose_other  \\\n",
              "0                       0                0               0              0   \n",
              "1                       0                0               0              0   \n",
              "2                       0                0               0              0   \n",
              "3                       0                0               0              0   \n",
              "4                       0                0               0              0   \n",
              "\n",
              "   purpose_renewable_energy  purpose_small_business  purpose_vacation  \\\n",
              "0                         0                       0                 1   \n",
              "1                         0                       0                 0   \n",
              "2                         0                       0                 0   \n",
              "3                         0                       0                 0   \n",
              "4                         0                       0                 0   \n",
              "\n",
              "   purpose_wedding  initial_list_status_w  application_type_INDIVIDUAL  \\\n",
              "0                0                      1                            1   \n",
              "1                0                      0                            1   \n",
              "2                0                      0                            1   \n",
              "3                0                      0                            1   \n",
              "4                0                      0                            1   \n",
              "\n",
              "   application_type_JOINT  home_ownership_OTHER  home_ownership_OWN  \\\n",
              "0                       0                     0                   0   \n",
              "1                       0                     0                   0   \n",
              "2                       0                     0                   0   \n",
              "3                       0                     0                   0   \n",
              "4                       0                     0                   0   \n",
              "\n",
              "   home_ownership_RENT  zip_code_05113  zip_code_11650  zip_code_22690  \\\n",
              "0                    1               0               0               1   \n",
              "1                    0               1               0               0   \n",
              "2                    1               1               0               0   \n",
              "3                    1               0               0               0   \n",
              "4                    0               0               1               0   \n",
              "\n",
              "   zip_code_29597  zip_code_30723  zip_code_48052  zip_code_70466  \\\n",
              "0               0               0               0               0   \n",
              "1               0               0               0               0   \n",
              "2               0               0               0               0   \n",
              "3               0               0               0               0   \n",
              "4               0               0               0               0   \n",
              "\n",
              "   zip_code_86630  zip_code_93700  \n",
              "0               0               0  \n",
              "1               0               0  \n",
              "2               0               0  \n",
              "3               0               0  \n",
              "4               0               0  \n",
              "\n",
              "[5 rows x 79 columns]"
            ]
          },
          "metadata": {
            "tags": []
          },
          "execution_count": 75
        }
      ]
    },
    {
      "cell_type": "code",
      "metadata": {
        "colab": {
          "base_uri": "https://localhost:8080/"
        },
        "id": "eMIocJDFpV9f",
        "outputId": "7f45691f-b0af-4c17-aea7-d9de99e4398d"
      },
      "source": [
        "df.columns"
      ],
      "execution_count": 76,
      "outputs": [
        {
          "output_type": "execute_result",
          "data": {
            "text/plain": [
              "Index(['loan_amnt', 'term', 'int_rate', 'installment', 'annual_inc',\n",
              "       'loan_status', 'dti', 'earliest_cr_line', 'open_acc', 'pub_rec',\n",
              "       'revol_bal', 'revol_util', 'total_acc', 'mort_acc',\n",
              "       'pub_rec_bankruptcies', 'sub_grade_A2', 'sub_grade_A3', 'sub_grade_A4',\n",
              "       'sub_grade_A5', 'sub_grade_B1', 'sub_grade_B2', 'sub_grade_B3',\n",
              "       'sub_grade_B4', 'sub_grade_B5', 'sub_grade_C1', 'sub_grade_C2',\n",
              "       'sub_grade_C3', 'sub_grade_C4', 'sub_grade_C5', 'sub_grade_D1',\n",
              "       'sub_grade_D2', 'sub_grade_D3', 'sub_grade_D4', 'sub_grade_D5',\n",
              "       'sub_grade_E1', 'sub_grade_E2', 'sub_grade_E3', 'sub_grade_E4',\n",
              "       'sub_grade_E5', 'sub_grade_F1', 'sub_grade_F2', 'sub_grade_F3',\n",
              "       'sub_grade_F4', 'sub_grade_F5', 'sub_grade_G1', 'sub_grade_G2',\n",
              "       'sub_grade_G3', 'sub_grade_G4', 'sub_grade_G5',\n",
              "       'verification_status_Source Verified', 'verification_status_Verified',\n",
              "       'purpose_credit_card', 'purpose_debt_consolidation',\n",
              "       'purpose_educational', 'purpose_home_improvement', 'purpose_house',\n",
              "       'purpose_major_purchase', 'purpose_medical', 'purpose_moving',\n",
              "       'purpose_other', 'purpose_renewable_energy', 'purpose_small_business',\n",
              "       'purpose_vacation', 'purpose_wedding', 'initial_list_status_w',\n",
              "       'application_type_INDIVIDUAL', 'application_type_JOINT',\n",
              "       'home_ownership_OTHER', 'home_ownership_OWN', 'home_ownership_RENT',\n",
              "       'zip_code_05113', 'zip_code_11650', 'zip_code_22690', 'zip_code_29597',\n",
              "       'zip_code_30723', 'zip_code_48052', 'zip_code_70466', 'zip_code_86630',\n",
              "       'zip_code_93700'],\n",
              "      dtype='object')"
            ]
          },
          "metadata": {
            "tags": []
          },
          "execution_count": 76
        }
      ]
    },
    {
      "cell_type": "markdown",
      "metadata": {
        "id": "V_dAl6wjWCF9"
      },
      "source": [
        "## Removing Duplicates if any"
      ]
    },
    {
      "cell_type": "code",
      "metadata": {
        "colab": {
          "base_uri": "https://localhost:8080/"
        },
        "id": "2c0KDQKRWCF9",
        "outputId": "9ee76155-578a-4265-c805-a7558259eb1f"
      },
      "source": [
        "print(f\"Data shape: {df.shape}\")\n",
        "df.drop_duplicates(inplace=True)\n",
        "print(f\"Data shape: {df.shape}\")"
      ],
      "execution_count": 77,
      "outputs": [
        {
          "output_type": "stream",
          "text": [
            "Data shape: (395219, 79)\n",
            "Data shape: (395219, 79)\n"
          ],
          "name": "stdout"
        }
      ]
    },
    {
      "cell_type": "markdown",
      "metadata": {
        "id": "6p3uftdJWCF9"
      },
      "source": [
        "# Model Development"
      ]
    },
    {
      "cell_type": "markdown",
      "metadata": {
        "id": "71d4uDKuWCF9"
      },
      "source": [
        "### Train Test Split"
      ]
    },
    {
      "cell_type": "code",
      "metadata": {
        "id": "CnklgUPXWCF9",
        "colab": {
          "base_uri": "https://localhost:8080/"
        },
        "outputId": "f152e0c1-d1d0-44fd-b6e1-3ad63120f928"
      },
      "source": [
        "X = df.drop('loan_status',axis = 1).values\n",
        "y = df['loan_status'].values\n",
        "\n",
        "X_train, X_test, y_train, y_test = train_test_split(X,y,test_size=0.20,random_state=42)\n",
        "\n",
        "print(X_train.shape)\n",
        "print(X_test.shape)\n",
        "print(y_train.shape)\n",
        "print(y_test.shape)"
      ],
      "execution_count": 78,
      "outputs": [
        {
          "output_type": "stream",
          "text": [
            "(316175, 78)\n",
            "(79044, 78)\n",
            "(316175,)\n",
            "(79044,)\n"
          ],
          "name": "stdout"
        }
      ]
    },
    {
      "cell_type": "markdown",
      "metadata": {
        "id": "ZDoE1ejYWCF-"
      },
      "source": [
        "### Scaling"
      ]
    },
    {
      "cell_type": "code",
      "metadata": {
        "id": "9YXbM1bhWCF-"
      },
      "source": [
        "scaler = MinMaxScaler()\n",
        "X_train = scaler.fit_transform(X_train)\n",
        "X_test = scaler.transform(X_test)"
      ],
      "execution_count": 79,
      "outputs": []
    },
    {
      "cell_type": "markdown",
      "metadata": {
        "id": "vQR9IoZgWCF-"
      },
      "source": [
        "### Creating a Model"
      ]
    },
    {
      "cell_type": "code",
      "metadata": {
        "id": "Ky6yBxK0WCF-"
      },
      "source": [
        "from tensorflow.keras.models import Sequential\n",
        "from tensorflow.keras.layers import Dense, Activation, Dropout\n",
        "from tensorflow.keras.optimizers import Adam\n",
        "from tensorflow.keras.callbacks import EarlyStopping"
      ],
      "execution_count": 80,
      "outputs": []
    },
    {
      "cell_type": "code",
      "metadata": {
        "id": "_fuy5ytHWCF-"
      },
      "source": [
        "model = Sequential()\n",
        "\n",
        "model.add(Dense(X_train.shape[1], activation='relu'))\n",
        "model.add(Dropout(0.2))\n",
        "\n",
        "model.add(Dense(78, activation='relu'))\n",
        "model.add(Dropout(0.2))\n",
        "\n",
        "model.add(Dense(39, activation='relu'))\n",
        "model.add(Dropout(0.2))\n",
        "\n",
        "model.add(Dense(19, activation='relu'))\n",
        "model.add(Dropout(0.2))\n",
        "\n",
        "model.add(Dense(1, activation='sigmoid'))\n",
        "\n",
        "model.compile(optimizer=tensorflow.keras.optimizers.Adam(0.001), loss='binary_crossentropy', metrics=['accuracy'])"
      ],
      "execution_count": 81,
      "outputs": []
    },
    {
      "cell_type": "markdown",
      "metadata": {
        "id": "7PKHu-yAWCF-"
      },
      "source": [
        "### Training the Model"
      ]
    },
    {
      "cell_type": "code",
      "metadata": {
        "id": "3NZfK7TnWCF_",
        "colab": {
          "base_uri": "https://localhost:8080/"
        },
        "outputId": "d4af0ab0-81ea-4c5d-8ff9-94e1450f33b1"
      },
      "source": [
        "early_stop = EarlyStopping(monitor='val_loss', mode='min', verbose=2, patience=25)\n",
        "model.fit(x=X_train,y=y_train,validation_data=(X_test,y_test),batch_size=256,epochs=150, callbacks=[early_stop])"
      ],
      "execution_count": 82,
      "outputs": [
        {
          "output_type": "stream",
          "text": [
            "Epoch 1/150\n",
            "1236/1236 [==============================] - 12s 9ms/step - loss: 0.3710 - accuracy: 0.8378 - val_loss: 0.2624 - val_accuracy: 0.8889\n",
            "Epoch 2/150\n",
            "1236/1236 [==============================] - 8s 7ms/step - loss: 0.2678 - accuracy: 0.8881 - val_loss: 0.2607 - val_accuracy: 0.8889\n",
            "Epoch 3/150\n",
            "1236/1236 [==============================] - 5s 4ms/step - loss: 0.2634 - accuracy: 0.8887 - val_loss: 0.2609 - val_accuracy: 0.8889\n",
            "Epoch 4/150\n",
            "1236/1236 [==============================] - 6s 5ms/step - loss: 0.2641 - accuracy: 0.8871 - val_loss: 0.2599 - val_accuracy: 0.8889\n",
            "Epoch 5/150\n",
            "1236/1236 [==============================] - 5s 4ms/step - loss: 0.2634 - accuracy: 0.8876 - val_loss: 0.2597 - val_accuracy: 0.8889\n",
            "Epoch 6/150\n",
            "1236/1236 [==============================] - 5s 4ms/step - loss: 0.2599 - accuracy: 0.8885 - val_loss: 0.2593 - val_accuracy: 0.8889\n",
            "Epoch 7/150\n",
            "1236/1236 [==============================] - 5s 4ms/step - loss: 0.2608 - accuracy: 0.8876 - val_loss: 0.2605 - val_accuracy: 0.8890\n",
            "Epoch 8/150\n",
            "1236/1236 [==============================] - 5s 4ms/step - loss: 0.2604 - accuracy: 0.8882 - val_loss: 0.2595 - val_accuracy: 0.8889\n",
            "Epoch 9/150\n",
            "1236/1236 [==============================] - 5s 4ms/step - loss: 0.2581 - accuracy: 0.8889 - val_loss: 0.2596 - val_accuracy: 0.8890\n",
            "Epoch 10/150\n",
            "1236/1236 [==============================] - 5s 4ms/step - loss: 0.2587 - accuracy: 0.8887 - val_loss: 0.2591 - val_accuracy: 0.8889\n",
            "Epoch 11/150\n",
            "1236/1236 [==============================] - 5s 4ms/step - loss: 0.2585 - accuracy: 0.8891 - val_loss: 0.2589 - val_accuracy: 0.8891\n",
            "Epoch 12/150\n",
            "1236/1236 [==============================] - 5s 4ms/step - loss: 0.2585 - accuracy: 0.8886 - val_loss: 0.2591 - val_accuracy: 0.8892\n",
            "Epoch 13/150\n",
            "1236/1236 [==============================] - 5s 4ms/step - loss: 0.2588 - accuracy: 0.8884 - val_loss: 0.2592 - val_accuracy: 0.8890\n",
            "Epoch 14/150\n",
            "1236/1236 [==============================] - 5s 4ms/step - loss: 0.2586 - accuracy: 0.8885 - val_loss: 0.2592 - val_accuracy: 0.8890\n",
            "Epoch 15/150\n",
            "1236/1236 [==============================] - 5s 4ms/step - loss: 0.2566 - accuracy: 0.8896 - val_loss: 0.2591 - val_accuracy: 0.8892\n",
            "Epoch 16/150\n",
            "1236/1236 [==============================] - 5s 4ms/step - loss: 0.2573 - accuracy: 0.8890 - val_loss: 0.2592 - val_accuracy: 0.8890\n",
            "Epoch 17/150\n",
            "1236/1236 [==============================] - 5s 4ms/step - loss: 0.2578 - accuracy: 0.8883 - val_loss: 0.2591 - val_accuracy: 0.8889\n",
            "Epoch 18/150\n",
            "1236/1236 [==============================] - 5s 4ms/step - loss: 0.2601 - accuracy: 0.8875 - val_loss: 0.2587 - val_accuracy: 0.8892\n",
            "Epoch 19/150\n",
            "1236/1236 [==============================] - 5s 4ms/step - loss: 0.2578 - accuracy: 0.8886 - val_loss: 0.2590 - val_accuracy: 0.8893\n",
            "Epoch 20/150\n",
            "1236/1236 [==============================] - 5s 4ms/step - loss: 0.2583 - accuracy: 0.8884 - val_loss: 0.2589 - val_accuracy: 0.8891\n",
            "Epoch 21/150\n",
            "1236/1236 [==============================] - 5s 4ms/step - loss: 0.2564 - accuracy: 0.8895 - val_loss: 0.2593 - val_accuracy: 0.8888\n",
            "Epoch 22/150\n",
            "1236/1236 [==============================] - 5s 4ms/step - loss: 0.2581 - accuracy: 0.8879 - val_loss: 0.2596 - val_accuracy: 0.8889\n",
            "Epoch 23/150\n",
            "1236/1236 [==============================] - 5s 4ms/step - loss: 0.2571 - accuracy: 0.8885 - val_loss: 0.2586 - val_accuracy: 0.8889\n",
            "Epoch 24/150\n",
            "1236/1236 [==============================] - 5s 4ms/step - loss: 0.2568 - accuracy: 0.8885 - val_loss: 0.2590 - val_accuracy: 0.8892\n",
            "Epoch 25/150\n",
            "1236/1236 [==============================] - 5s 4ms/step - loss: 0.2567 - accuracy: 0.8898 - val_loss: 0.2585 - val_accuracy: 0.8892\n",
            "Epoch 26/150\n",
            "1236/1236 [==============================] - 5s 4ms/step - loss: 0.2557 - accuracy: 0.8896 - val_loss: 0.2592 - val_accuracy: 0.8889\n",
            "Epoch 27/150\n",
            "1236/1236 [==============================] - 5s 4ms/step - loss: 0.2547 - accuracy: 0.8901 - val_loss: 0.2587 - val_accuracy: 0.8892\n",
            "Epoch 28/150\n",
            "1236/1236 [==============================] - 5s 4ms/step - loss: 0.2569 - accuracy: 0.8886 - val_loss: 0.2588 - val_accuracy: 0.8891\n",
            "Epoch 29/150\n",
            "1236/1236 [==============================] - 5s 4ms/step - loss: 0.2565 - accuracy: 0.8888 - val_loss: 0.2587 - val_accuracy: 0.8888\n",
            "Epoch 30/150\n",
            "1236/1236 [==============================] - 5s 4ms/step - loss: 0.2569 - accuracy: 0.8890 - val_loss: 0.2587 - val_accuracy: 0.8888\n",
            "Epoch 31/150\n",
            "1236/1236 [==============================] - 5s 4ms/step - loss: 0.2531 - accuracy: 0.8906 - val_loss: 0.2588 - val_accuracy: 0.8889\n",
            "Epoch 32/150\n",
            "1236/1236 [==============================] - 5s 4ms/step - loss: 0.2562 - accuracy: 0.8888 - val_loss: 0.2588 - val_accuracy: 0.8890\n",
            "Epoch 33/150\n",
            "1236/1236 [==============================] - 5s 4ms/step - loss: 0.2563 - accuracy: 0.8890 - val_loss: 0.2587 - val_accuracy: 0.8890\n",
            "Epoch 34/150\n",
            "1236/1236 [==============================] - 5s 4ms/step - loss: 0.2549 - accuracy: 0.8899 - val_loss: 0.2591 - val_accuracy: 0.8888\n",
            "Epoch 35/150\n",
            "1236/1236 [==============================] - 5s 4ms/step - loss: 0.2549 - accuracy: 0.8895 - val_loss: 0.2588 - val_accuracy: 0.8890\n",
            "Epoch 36/150\n",
            "1236/1236 [==============================] - 5s 4ms/step - loss: 0.2563 - accuracy: 0.8884 - val_loss: 0.2590 - val_accuracy: 0.8892\n",
            "Epoch 37/150\n",
            "1236/1236 [==============================] - 5s 4ms/step - loss: 0.2541 - accuracy: 0.8893 - val_loss: 0.2593 - val_accuracy: 0.8889\n",
            "Epoch 38/150\n",
            "1236/1236 [==============================] - 5s 4ms/step - loss: 0.2554 - accuracy: 0.8892 - val_loss: 0.2588 - val_accuracy: 0.8888\n",
            "Epoch 39/150\n",
            "1236/1236 [==============================] - 5s 4ms/step - loss: 0.2540 - accuracy: 0.8904 - val_loss: 0.2591 - val_accuracy: 0.8889\n",
            "Epoch 40/150\n",
            "1236/1236 [==============================] - 5s 4ms/step - loss: 0.2553 - accuracy: 0.8891 - val_loss: 0.2587 - val_accuracy: 0.8891\n",
            "Epoch 41/150\n",
            "1236/1236 [==============================] - 5s 4ms/step - loss: 0.2540 - accuracy: 0.8899 - val_loss: 0.2590 - val_accuracy: 0.8892\n",
            "Epoch 42/150\n",
            "1236/1236 [==============================] - 5s 4ms/step - loss: 0.2537 - accuracy: 0.8906 - val_loss: 0.2584 - val_accuracy: 0.8889\n",
            "Epoch 43/150\n",
            "1236/1236 [==============================] - 5s 4ms/step - loss: 0.2538 - accuracy: 0.8900 - val_loss: 0.2594 - val_accuracy: 0.8892\n",
            "Epoch 44/150\n",
            "1236/1236 [==============================] - 5s 4ms/step - loss: 0.2552 - accuracy: 0.8893 - val_loss: 0.2589 - val_accuracy: 0.8890\n",
            "Epoch 45/150\n",
            "1236/1236 [==============================] - 5s 4ms/step - loss: 0.2525 - accuracy: 0.8912 - val_loss: 0.2596 - val_accuracy: 0.8888\n",
            "Epoch 46/150\n",
            "1236/1236 [==============================] - 5s 4ms/step - loss: 0.2536 - accuracy: 0.8901 - val_loss: 0.2593 - val_accuracy: 0.8891\n",
            "Epoch 47/150\n",
            "1236/1236 [==============================] - 5s 4ms/step - loss: 0.2549 - accuracy: 0.8889 - val_loss: 0.2588 - val_accuracy: 0.8888\n",
            "Epoch 48/150\n",
            "1236/1236 [==============================] - 6s 4ms/step - loss: 0.2536 - accuracy: 0.8902 - val_loss: 0.2598 - val_accuracy: 0.8883\n",
            "Epoch 49/150\n",
            "1236/1236 [==============================] - 5s 4ms/step - loss: 0.2507 - accuracy: 0.8917 - val_loss: 0.2593 - val_accuracy: 0.8892\n",
            "Epoch 50/150\n",
            "1236/1236 [==============================] - 5s 4ms/step - loss: 0.2521 - accuracy: 0.8907 - val_loss: 0.2597 - val_accuracy: 0.8888\n",
            "Epoch 51/150\n",
            "1236/1236 [==============================] - 5s 4ms/step - loss: 0.2519 - accuracy: 0.8914 - val_loss: 0.2596 - val_accuracy: 0.8889\n",
            "Epoch 52/150\n",
            "1236/1236 [==============================] - 5s 4ms/step - loss: 0.2523 - accuracy: 0.8910 - val_loss: 0.2596 - val_accuracy: 0.8890\n",
            "Epoch 53/150\n",
            "1236/1236 [==============================] - 5s 4ms/step - loss: 0.2538 - accuracy: 0.8896 - val_loss: 0.2590 - val_accuracy: 0.8894\n",
            "Epoch 54/150\n",
            "1236/1236 [==============================] - 5s 4ms/step - loss: 0.2534 - accuracy: 0.8901 - val_loss: 0.2597 - val_accuracy: 0.8890\n",
            "Epoch 55/150\n",
            "1236/1236 [==============================] - 5s 4ms/step - loss: 0.2529 - accuracy: 0.8903 - val_loss: 0.2600 - val_accuracy: 0.8891\n",
            "Epoch 56/150\n",
            "1236/1236 [==============================] - 5s 4ms/step - loss: 0.2512 - accuracy: 0.8916 - val_loss: 0.2594 - val_accuracy: 0.8891\n",
            "Epoch 57/150\n",
            "1236/1236 [==============================] - 5s 4ms/step - loss: 0.2518 - accuracy: 0.8911 - val_loss: 0.2595 - val_accuracy: 0.8888\n",
            "Epoch 58/150\n",
            "1236/1236 [==============================] - 5s 4ms/step - loss: 0.2534 - accuracy: 0.8898 - val_loss: 0.2594 - val_accuracy: 0.8892\n",
            "Epoch 59/150\n",
            "1236/1236 [==============================] - 5s 4ms/step - loss: 0.2515 - accuracy: 0.8911 - val_loss: 0.2595 - val_accuracy: 0.8891\n",
            "Epoch 60/150\n",
            "1236/1236 [==============================] - 6s 4ms/step - loss: 0.2523 - accuracy: 0.8908 - val_loss: 0.2597 - val_accuracy: 0.8891\n",
            "Epoch 61/150\n",
            "1236/1236 [==============================] - 6s 5ms/step - loss: 0.2537 - accuracy: 0.8896 - val_loss: 0.2597 - val_accuracy: 0.8885\n",
            "Epoch 62/150\n",
            "1236/1236 [==============================] - 6s 5ms/step - loss: 0.2520 - accuracy: 0.8909 - val_loss: 0.2592 - val_accuracy: 0.8887\n",
            "Epoch 63/150\n",
            "1236/1236 [==============================] - 6s 5ms/step - loss: 0.2523 - accuracy: 0.8907 - val_loss: 0.2593 - val_accuracy: 0.8886\n",
            "Epoch 64/150\n",
            "1236/1236 [==============================] - 6s 5ms/step - loss: 0.2522 - accuracy: 0.8913 - val_loss: 0.2599 - val_accuracy: 0.8893\n",
            "Epoch 65/150\n",
            "1236/1236 [==============================] - 6s 4ms/step - loss: 0.2524 - accuracy: 0.8908 - val_loss: 0.2598 - val_accuracy: 0.8887\n",
            "Epoch 66/150\n",
            "1236/1236 [==============================] - 5s 4ms/step - loss: 0.2520 - accuracy: 0.8901 - val_loss: 0.2600 - val_accuracy: 0.8893\n",
            "Epoch 67/150\n",
            "1236/1236 [==============================] - 5s 4ms/step - loss: 0.2511 - accuracy: 0.8913 - val_loss: 0.2595 - val_accuracy: 0.8889\n",
            "Epoch 00067: early stopping\n"
          ],
          "name": "stdout"
        },
        {
          "output_type": "execute_result",
          "data": {
            "text/plain": [
              "<tensorflow.python.keras.callbacks.History at 0x7f0e7ca0ea20>"
            ]
          },
          "metadata": {
            "tags": []
          },
          "execution_count": 82
        }
      ]
    },
    {
      "cell_type": "code",
      "metadata": {
        "id": "akl6gsiKWCF_",
        "colab": {
          "base_uri": "https://localhost:8080/"
        },
        "outputId": "051da321-a340-43ae-f9a3-237a60d7df3b"
      },
      "source": [
        "model.summary()"
      ],
      "execution_count": 83,
      "outputs": [
        {
          "output_type": "stream",
          "text": [
            "Model: \"sequential\"\n",
            "_________________________________________________________________\n",
            "Layer (type)                 Output Shape              Param #   \n",
            "=================================================================\n",
            "dense (Dense)                (None, 78)                6162      \n",
            "_________________________________________________________________\n",
            "dropout (Dropout)            (None, 78)                0         \n",
            "_________________________________________________________________\n",
            "dense_1 (Dense)              (None, 78)                6162      \n",
            "_________________________________________________________________\n",
            "dropout_1 (Dropout)          (None, 78)                0         \n",
            "_________________________________________________________________\n",
            "dense_2 (Dense)              (None, 39)                3081      \n",
            "_________________________________________________________________\n",
            "dropout_2 (Dropout)          (None, 39)                0         \n",
            "_________________________________________________________________\n",
            "dense_3 (Dense)              (None, 19)                760       \n",
            "_________________________________________________________________\n",
            "dropout_3 (Dropout)          (None, 19)                0         \n",
            "_________________________________________________________________\n",
            "dense_4 (Dense)              (None, 1)                 20        \n",
            "=================================================================\n",
            "Total params: 16,185\n",
            "Trainable params: 16,185\n",
            "Non-trainable params: 0\n",
            "_________________________________________________________________\n"
          ],
          "name": "stdout"
        }
      ]
    },
    {
      "cell_type": "code",
      "metadata": {
        "id": "ixDWm6tGWCF_",
        "colab": {
          "base_uri": "https://localhost:8080/",
          "height": 407
        },
        "outputId": "58d53716-5b1b-4649-ce1a-288147852f2f"
      },
      "source": [
        "losses = pd.DataFrame(model.history.history)\n",
        "losses"
      ],
      "execution_count": 84,
      "outputs": [
        {
          "output_type": "execute_result",
          "data": {
            "text/html": [
              "<div>\n",
              "<style scoped>\n",
              "    .dataframe tbody tr th:only-of-type {\n",
              "        vertical-align: middle;\n",
              "    }\n",
              "\n",
              "    .dataframe tbody tr th {\n",
              "        vertical-align: top;\n",
              "    }\n",
              "\n",
              "    .dataframe thead th {\n",
              "        text-align: right;\n",
              "    }\n",
              "</style>\n",
              "<table border=\"1\" class=\"dataframe\">\n",
              "  <thead>\n",
              "    <tr style=\"text-align: right;\">\n",
              "      <th></th>\n",
              "      <th>loss</th>\n",
              "      <th>accuracy</th>\n",
              "      <th>val_loss</th>\n",
              "      <th>val_accuracy</th>\n",
              "    </tr>\n",
              "  </thead>\n",
              "  <tbody>\n",
              "    <tr>\n",
              "      <th>0</th>\n",
              "      <td>0.30</td>\n",
              "      <td>0.88</td>\n",
              "      <td>0.26</td>\n",
              "      <td>0.89</td>\n",
              "    </tr>\n",
              "    <tr>\n",
              "      <th>1</th>\n",
              "      <td>0.27</td>\n",
              "      <td>0.89</td>\n",
              "      <td>0.26</td>\n",
              "      <td>0.89</td>\n",
              "    </tr>\n",
              "    <tr>\n",
              "      <th>2</th>\n",
              "      <td>0.26</td>\n",
              "      <td>0.89</td>\n",
              "      <td>0.26</td>\n",
              "      <td>0.89</td>\n",
              "    </tr>\n",
              "    <tr>\n",
              "      <th>3</th>\n",
              "      <td>0.26</td>\n",
              "      <td>0.89</td>\n",
              "      <td>0.26</td>\n",
              "      <td>0.89</td>\n",
              "    </tr>\n",
              "    <tr>\n",
              "      <th>4</th>\n",
              "      <td>0.26</td>\n",
              "      <td>0.89</td>\n",
              "      <td>0.26</td>\n",
              "      <td>0.89</td>\n",
              "    </tr>\n",
              "    <tr>\n",
              "      <th>...</th>\n",
              "      <td>...</td>\n",
              "      <td>...</td>\n",
              "      <td>...</td>\n",
              "      <td>...</td>\n",
              "    </tr>\n",
              "    <tr>\n",
              "      <th>62</th>\n",
              "      <td>0.25</td>\n",
              "      <td>0.89</td>\n",
              "      <td>0.26</td>\n",
              "      <td>0.89</td>\n",
              "    </tr>\n",
              "    <tr>\n",
              "      <th>63</th>\n",
              "      <td>0.25</td>\n",
              "      <td>0.89</td>\n",
              "      <td>0.26</td>\n",
              "      <td>0.89</td>\n",
              "    </tr>\n",
              "    <tr>\n",
              "      <th>64</th>\n",
              "      <td>0.25</td>\n",
              "      <td>0.89</td>\n",
              "      <td>0.26</td>\n",
              "      <td>0.89</td>\n",
              "    </tr>\n",
              "    <tr>\n",
              "      <th>65</th>\n",
              "      <td>0.25</td>\n",
              "      <td>0.89</td>\n",
              "      <td>0.26</td>\n",
              "      <td>0.89</td>\n",
              "    </tr>\n",
              "    <tr>\n",
              "      <th>66</th>\n",
              "      <td>0.25</td>\n",
              "      <td>0.89</td>\n",
              "      <td>0.26</td>\n",
              "      <td>0.89</td>\n",
              "    </tr>\n",
              "  </tbody>\n",
              "</table>\n",
              "<p>67 rows × 4 columns</p>\n",
              "</div>"
            ],
            "text/plain": [
              "    loss  accuracy  val_loss  val_accuracy\n",
              "0   0.30      0.88      0.26          0.89\n",
              "1   0.27      0.89      0.26          0.89\n",
              "2   0.26      0.89      0.26          0.89\n",
              "3   0.26      0.89      0.26          0.89\n",
              "4   0.26      0.89      0.26          0.89\n",
              "..   ...       ...       ...           ...\n",
              "62  0.25      0.89      0.26          0.89\n",
              "63  0.25      0.89      0.26          0.89\n",
              "64  0.25      0.89      0.26          0.89\n",
              "65  0.25      0.89      0.26          0.89\n",
              "66  0.25      0.89      0.26          0.89\n",
              "\n",
              "[67 rows x 4 columns]"
            ]
          },
          "metadata": {
            "tags": []
          },
          "execution_count": 84
        }
      ]
    },
    {
      "cell_type": "code",
      "metadata": {
        "id": "ffHdHgQRWCF_",
        "colab": {
          "base_uri": "https://localhost:8080/",
          "height": 347
        },
        "outputId": "8ee884e1-1a6a-4cb9-c28c-193d42225d14"
      },
      "source": [
        "losses.plot();"
      ],
      "execution_count": 85,
      "outputs": [
        {
          "output_type": "display_data",
          "data": {
            "image/png": "[encoded data removed]",
            "text/plain": [
              "<Figure size 576x396 with 1 Axes>"
            ]
          },
          "metadata": {
            "tags": []
          }
        }
      ]
    },
    {
      "cell_type": "code",
      "metadata": {
        "id": "9tNeaWF1WCF_",
        "colab": {
          "base_uri": "https://localhost:8080/",
          "height": 361
        },
        "outputId": "7514ce69-ee8c-42ed-c66b-b2455427c389"
      },
      "source": [
        "y_pred = model.predict_classes(X_test)\n",
        "cnf_matrix = confusion_matrix(y_test, y_pred)\n",
        "sns.heatmap(cnf_matrix, annot=True, cmap=\"YlGnBu\",fmt='d')\n",
        "plt.ylabel('Actual Label')\n",
        "plt.xlabel('Predicted Label');"
      ],
      "execution_count": 86,
      "outputs": [
        {
          "output_type": "display_data",
          "data": {
            "image/png": "[encoded data removed]",
            "text/plain": [
              "<Figure size 576x396 with 2 Axes>"
            ]
          },
          "metadata": {
            "tags": []
          }
        }
      ]
    },
    {
      "cell_type": "code",
      "metadata": {
        "id": "Bmp21Dc8WCGA",
        "colab": {
          "base_uri": "https://localhost:8080/"
        },
        "outputId": "4c6d42fc-7aa6-481a-a3cd-3de6981bae69"
      },
      "source": [
        "print(classification_report(y_test, y_pred))"
      ],
      "execution_count": 87,
      "outputs": [
        {
          "output_type": "stream",
          "text": [
            "              precision    recall  f1-score   support\n",
            "\n",
            "           0       0.94      0.46      0.62     15421\n",
            "           1       0.88      0.99      0.94     63623\n",
            "\n",
            "    accuracy                           0.89     79044\n",
            "   macro avg       0.91      0.73      0.78     79044\n",
            "weighted avg       0.89      0.89      0.87     79044\n",
            "\n"
          ],
          "name": "stdout"
        }
      ]
    },
    {
      "cell_type": "markdown",
      "metadata": {
        "id": "-aKDWGHVWCGA"
      },
      "source": [
        "## Model Prediction based on New Data"
      ]
    },
    {
      "cell_type": "code",
      "metadata": {
        "id": "HlINgl09WCGA",
        "colab": {
          "base_uri": "https://localhost:8080/"
        },
        "outputId": "ee6919bd-c85f-4240-df78-826c90b9c7a4"
      },
      "source": [
        "import random\n",
        "random.seed(101)\n",
        "random_ind = random.randint(0,len(df))\n",
        "\n",
        "new_customer = df.drop('loan_status',axis=1).iloc[random_ind]\n",
        "new_customer"
      ],
      "execution_count": 88,
      "outputs": [
        {
          "output_type": "execute_result",
          "data": {
            "text/plain": [
              "loan_amnt        25000.00\n",
              "term                   60\n",
              "int_rate            18.24\n",
              "installment        638.11\n",
              "annual_inc       61665.00\n",
              "                   ...   \n",
              "zip_code_30723          1\n",
              "zip_code_48052          0\n",
              "zip_code_70466          0\n",
              "zip_code_86630          0\n",
              "zip_code_93700          0\n",
              "Name: 305323, Length: 78, dtype: object"
            ]
          },
          "metadata": {
            "tags": []
          },
          "execution_count": 88
        }
      ]
    },
    {
      "cell_type": "code",
      "metadata": {
        "id": "3XtUnQb1WCGA",
        "colab": {
          "base_uri": "https://localhost:8080/"
        },
        "outputId": "5bc83060-7abf-48af-e67b-6220c93e1d62"
      },
      "source": [
        "x = np.asarray(new_customer.values).astype('float32')\n",
        "x"
      ],
      "execution_count": 89,
      "outputs": [
        {
          "output_type": "execute_result",
          "data": {
            "text/plain": [
              "array([2.5000e+04, 6.0000e+01, 1.8240e+01, 6.3811e+02, 6.1665e+04,\n",
              "       3.0110e+01, 1.9960e+03, 1.6000e+01, 0.0000e+00, 2.7778e+04,\n",
              "       6.5500e+01, 4.6000e+01, 0.0000e+00, 0.0000e+00, 0.0000e+00,\n",
              "       0.0000e+00, 0.0000e+00, 0.0000e+00, 0.0000e+00, 0.0000e+00,\n",
              "       0.0000e+00, 0.0000e+00, 0.0000e+00, 0.0000e+00, 0.0000e+00,\n",
              "       0.0000e+00, 0.0000e+00, 0.0000e+00, 0.0000e+00, 0.0000e+00,\n",
              "       0.0000e+00, 0.0000e+00, 1.0000e+00, 0.0000e+00, 0.0000e+00,\n",
              "       0.0000e+00, 0.0000e+00, 0.0000e+00, 0.0000e+00, 0.0000e+00,\n",
              "       0.0000e+00, 0.0000e+00, 0.0000e+00, 0.0000e+00, 0.0000e+00,\n",
              "       0.0000e+00, 0.0000e+00, 0.0000e+00, 0.0000e+00, 1.0000e+00,\n",
              "       0.0000e+00, 1.0000e+00, 0.0000e+00, 0.0000e+00, 0.0000e+00,\n",
              "       0.0000e+00, 0.0000e+00, 0.0000e+00, 0.0000e+00, 0.0000e+00,\n",
              "       0.0000e+00, 0.0000e+00, 0.0000e+00, 0.0000e+00, 1.0000e+00,\n",
              "       0.0000e+00, 0.0000e+00, 0.0000e+00, 1.0000e+00, 0.0000e+00,\n",
              "       0.0000e+00, 0.0000e+00, 0.0000e+00, 1.0000e+00, 0.0000e+00,\n",
              "       0.0000e+00, 0.0000e+00, 0.0000e+00], dtype=float32)"
            ]
          },
          "metadata": {
            "tags": []
          },
          "execution_count": 89
        }
      ]
    },
    {
      "cell_type": "code",
      "metadata": {
        "id": "-s4I2vduWCGE",
        "colab": {
          "base_uri": "https://localhost:8080/"
        },
        "outputId": "4d40490b-25bb-4e06-d445-d87b92e1c96b"
      },
      "source": [
        "model.predict_classes(x.reshape(1,78))"
      ],
      "execution_count": 90,
      "outputs": [
        {
          "output_type": "execute_result",
          "data": {
            "text/plain": [
              "array([[1]], dtype=int32)"
            ]
          },
          "metadata": {
            "tags": []
          },
          "execution_count": 90
        }
      ]
    },
    {
      "cell_type": "markdown",
      "metadata": {
        "id": "mJJFbIA8WCGE"
      },
      "source": [
        "## Model Saving"
      ]
    },
    {
      "cell_type": "code",
      "metadata": {
        "id": "-Azj_Gm4WCGE"
      },
      "source": [
        "from tensorflow.keras.models import load_model\n",
        "model.save('final_loan_model.h5')  "
      ],
      "execution_count": 91,
      "outputs": []
    }
  ]
}